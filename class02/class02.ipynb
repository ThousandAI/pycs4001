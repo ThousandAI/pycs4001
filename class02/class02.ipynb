{
  "nbformat": 4,
  "nbformat_minor": 0,
  "metadata": {
    "colab": {
      "name": "class02.ipynb",
      "provenance": [],
      "authorship_tag": "ABX9TyOjBvObO0CW1wKxxzjKOW8A",
      "include_colab_link": true
    },
    "kernelspec": {
      "name": "python3",
      "display_name": "Python 3"
    },
    "language_info": {
      "name": "python"
    }
  },
  "cells": [
    {
      "cell_type": "markdown",
      "metadata": {
        "id": "view-in-github",
        "colab_type": "text"
      },
      "source": [
        "<a href=\"https://colab.research.google.com/github/ThousandAI/pycs4001/blob/main/class02/class02.ipynb\" target=\"_parent\"><img src=\"https://colab.research.google.com/assets/colab-badge.svg\" alt=\"Open In Colab\"/></a>"
      ]
    },
    {
      "cell_type": "markdown",
      "source": [
        "# **迴圈 for**"
      ],
      "metadata": {
        "id": "QHxjZyNvN_JL"
      }
    },
    {
      "cell_type": "code",
      "source": [
        "# for 迴圈\n",
        "for i in range(0,10,1):\n",
        "  print(i, end= \" \")\n",
        "print()\n",
        "for i in range(10):\n",
        "  print(i, end= \" \")\n"
      ],
      "metadata": {
        "colab": {
          "base_uri": "https://localhost:8080/"
        },
        "id": "QdWAIJj8OFsp",
        "outputId": "8d4b9d8c-9f0a-4b97-cb53-768e83af75e6"
      },
      "execution_count": 1,
      "outputs": [
        {
          "output_type": "stream",
          "name": "stdout",
          "text": [
            "0 1 2 3 4 5 6 7 8 9 \n",
            "0 1 2 3 4 5 6 7 8 9 "
          ]
        }
      ]
    },
    {
      "cell_type": "code",
      "source": [
        "# for 迴圈解答 (1)\n",
        "n = int(input())\n",
        "for i in range(1,n+1,1):\n",
        "    print(i)"
      ],
      "metadata": {
        "colab": {
          "base_uri": "https://localhost:8080/"
        },
        "id": "jrpMHJmROTAl",
        "outputId": "a453bf4d-2bc7-4026-d227-e877f720bd7d"
      },
      "execution_count": 2,
      "outputs": [
        {
          "output_type": "stream",
          "name": "stdout",
          "text": [
            "10\n",
            "1\n",
            "2\n",
            "3\n",
            "4\n",
            "5\n",
            "6\n",
            "7\n",
            "8\n",
            "9\n",
            "10\n"
          ]
        }
      ]
    },
    {
      "cell_type": "code",
      "source": [
        "# for 迴圈解答 (2)\n",
        "n = int(input())\n",
        "for i in range(n,-1,-1):\n",
        "    print(i)"
      ],
      "metadata": {
        "colab": {
          "base_uri": "https://localhost:8080/"
        },
        "id": "uWmh8tddPBRR",
        "outputId": "6ce9a4d7-0733-49d6-ec64-e00867d92e3d"
      },
      "execution_count": 3,
      "outputs": [
        {
          "output_type": "stream",
          "name": "stdout",
          "text": [
            "5\n",
            "5\n",
            "4\n",
            "3\n",
            "2\n",
            "1\n",
            "0\n"
          ]
        }
      ]
    },
    {
      "cell_type": "code",
      "source": [
        "# for 迴圈解答 (3)\n",
        "n = int(input())\n",
        "ans = 0\n",
        "for i in range(1,n+1,1):\n",
        "    ans = ans + i # ans += i\n",
        "print(ans)\n"
      ],
      "metadata": {
        "colab": {
          "base_uri": "https://localhost:8080/"
        },
        "id": "yLnnBbxgPQ5-",
        "outputId": "5e77d023-6018-4dd2-a3a0-381094a90db5"
      },
      "execution_count": 4,
      "outputs": [
        {
          "output_type": "stream",
          "name": "stdout",
          "text": [
            "10\n",
            "55\n"
          ]
        }
      ]
    },
    {
      "cell_type": "code",
      "source": [
        "# for 迴圈解答 (4)\n",
        "n = int(input())\n",
        "ans = 0\n",
        "for i in range(n):\n",
        "    temp = int(input()) # temporary\n",
        "    ans += temp\n",
        "print(ans)"
      ],
      "metadata": {
        "colab": {
          "base_uri": "https://localhost:8080/"
        },
        "id": "YwnZCaXmPpIW",
        "outputId": "377aea5d-9046-4918-f0e5-b2b7e22cf809"
      },
      "execution_count": 5,
      "outputs": [
        {
          "output_type": "stream",
          "name": "stdout",
          "text": [
            "5\n",
            "30\n",
            "80\n",
            "100\n",
            "20\n",
            "75\n",
            "305\n"
          ]
        }
      ]
    },
    {
      "cell_type": "markdown",
      "source": [
        "# **無窮迴圈**"
      ],
      "metadata": {
        "id": "1e3ixMAGQ7N2"
      }
    },
    {
      "cell_type": "code",
      "source": [
        "# break\n",
        "while True:\n",
        "  x = input()\n",
        "  if x == \"Q\":\n",
        "    break\n",
        "  print(x)"
      ],
      "metadata": {
        "colab": {
          "base_uri": "https://localhost:8080/"
        },
        "id": "N4NJFHIVQ-DG",
        "outputId": "b57dd9e2-e5e0-4036-f4eb-963ef82d2ec9"
      },
      "execution_count": 7,
      "outputs": [
        {
          "name": "stdout",
          "output_type": "stream",
          "text": [
            "2\n",
            "2\n",
            "4\n",
            "4\n",
            "8\n",
            "8\n",
            "Q\n"
          ]
        }
      ]
    },
    {
      "cell_type": "code",
      "source": [
        "# break\n",
        "x = 0\n",
        "while x <= 10:\n",
        "  x += 1\n",
        "  if x == 3:\n",
        "    break\n",
        "  print(x)"
      ],
      "metadata": {
        "colab": {
          "base_uri": "https://localhost:8080/"
        },
        "id": "Uj75YiyUQ-Mf",
        "outputId": "5bdd1cf1-3f01-478e-a332-f29f76748973"
      },
      "execution_count": 8,
      "outputs": [
        {
          "output_type": "stream",
          "name": "stdout",
          "text": [
            "1\n",
            "2\n"
          ]
        }
      ]
    },
    {
      "cell_type": "code",
      "source": [
        "# continue\n",
        "x = 0\n",
        "while x <= 10:\n",
        "  x += 1\n",
        "  if x == 3:\n",
        "      continue\n",
        "  print(x)"
      ],
      "metadata": {
        "colab": {
          "base_uri": "https://localhost:8080/"
        },
        "id": "-A3kQhN_Q-PD",
        "outputId": "149d95ac-11e1-4ecb-bcc5-958add3ef240"
      },
      "execution_count": 9,
      "outputs": [
        {
          "output_type": "stream",
          "name": "stdout",
          "text": [
            "1\n",
            "2\n",
            "4\n",
            "5\n",
            "6\n",
            "7\n",
            "8\n",
            "9\n",
            "10\n",
            "11\n"
          ]
        }
      ]
    },
    {
      "cell_type": "code",
      "source": [
        ""
      ],
      "metadata": {
        "id": "L28KGiO6Tgsz"
      },
      "execution_count": null,
      "outputs": []
    },
    {
      "cell_type": "markdown",
      "source": [
        "# **串列**"
      ],
      "metadata": {
        "id": "xlPVq3OjUvgR"
      }
    },
    {
      "cell_type": "code",
      "source": [
        "# 串列 list\n",
        "numbers = [3, 5, 6, 10, 2, 8]\n",
        "cat = [\"cookie\", 2, 3.2]\n",
        "print(numbers)\n",
        "print(cat)"
      ],
      "metadata": {
        "colab": {
          "base_uri": "https://localhost:8080/"
        },
        "id": "kioLxBLFUx_-",
        "outputId": "a36315ba-be58-4600-ef37-86aaf9284cf3"
      },
      "execution_count": 11,
      "outputs": [
        {
          "output_type": "stream",
          "name": "stdout",
          "text": [
            "[3, 5, 6, 10, 2, 8]\n",
            "['cookie', 2, 3.2]\n"
          ]
        }
      ]
    },
    {
      "cell_type": "code",
      "source": [
        "# index && slice\n",
        "numbers = [3, 5, 6, 10, 2, 8]\n",
        "print(numbers[0])\n",
        "print(numbers[2])\n",
        "print(numbers[-1])\n",
        "print(numbers[-3])\n",
        "print(len(numbers))\n",
        "print(numbers[1:3])\n",
        "print(numbers[:3])\n",
        "print(numbers[3:])\n",
        "print(numbers[2:-1])\n",
        "print(numbers[-1:-4])\n",
        "print(numbers[-3:])\n",
        "print(numbers[:])"
      ],
      "metadata": {
        "colab": {
          "base_uri": "https://localhost:8080/"
        },
        "id": "mlP9NNVNU1jj",
        "outputId": "2e35b557-c95b-47f9-ca5a-6d20cee23a78"
      },
      "execution_count": 12,
      "outputs": [
        {
          "output_type": "stream",
          "name": "stdout",
          "text": [
            "3\n",
            "6\n",
            "8\n",
            "10\n",
            "6\n",
            "[5, 6]\n",
            "[3, 5, 6]\n",
            "[10, 2, 8]\n",
            "[6, 10, 2]\n",
            "[]\n",
            "[10, 2, 8]\n",
            "[3, 5, 6, 10, 2, 8]\n"
          ]
        }
      ]
    },
    {
      "cell_type": "code",
      "source": [
        "# 串列 methods\n",
        "numbers = [5, 3, 6]\n",
        "numbers.insert(2, 8)\n",
        "print(f\"After insert: {numbers}\")\n",
        "numbers.append(8)\n",
        "print(f\"After append: {numbers}\")\n",
        "numbers.remove(8)\n",
        "print(f\"After remove: {numbers}\") # 移走第一個\n",
        "numbers.sort() # 由小到大\n",
        "print(f\"After sort: {numbers}\")\n",
        "numbers.reverse()\n",
        "print(f\"After reverse: {numbers}\")\n",
        "numbers.pop()\n",
        "print(f\"After pop: {numbers}\")"
      ],
      "metadata": {
        "colab": {
          "base_uri": "https://localhost:8080/"
        },
        "id": "tntlmqocV9A2",
        "outputId": "515090c2-5e7f-4669-cb19-44c05667474d"
      },
      "execution_count": 13,
      "outputs": [
        {
          "output_type": "stream",
          "name": "stdout",
          "text": [
            "After insert: [5, 3, 8, 6]\n",
            "After append: [5, 3, 8, 6, 8]\n",
            "After remove: [5, 3, 6, 8]\n",
            "After sort: [3, 5, 6, 8]\n",
            "After reverse: [8, 6, 5, 3]\n",
            "After pop: [8, 6, 5]\n"
          ]
        }
      ]
    },
    {
      "cell_type": "code",
      "source": [
        "# 串列 assign 記憶體問題\n",
        "num1 = [1, 2, 3, 4, 5]\n",
        "num2 = num1\n",
        "num1.append(6)\n",
        "print(f\"num1: {num1}, num2: {num2}\")\n",
        "num3 = num1[:]\n",
        "num4 = num1.copy()\n",
        "num1.append(7)\n",
        "num3.append(8)\n",
        "print(f\"num1: {num1}, num2: {num2}, num3: {num3}, num4: {num4}\" )"
      ],
      "metadata": {
        "colab": {
          "base_uri": "https://localhost:8080/"
        },
        "id": "sbXeH1YqYvAA",
        "outputId": "eb3ac9fc-4d5c-4c02-8856-35eac5b89381"
      },
      "execution_count": 15,
      "outputs": [
        {
          "output_type": "stream",
          "name": "stdout",
          "text": [
            "num1: [1, 2, 3, 4, 5, 6], num2: [1, 2, 3, 4, 5, 6]\n",
            "num1: [1, 2, 3, 4, 5, 6, 7], num2: [1, 2, 3, 4, 5, 6, 7], num3: [1, 2, 3, 4, 5, 6, 8], num4: [1, 2, 3, 4, 5, 6]\n"
          ]
        }
      ]
    },
    {
      "cell_type": "markdown",
      "source": [
        "# **串列 + 迴圈**"
      ],
      "metadata": {
        "id": "R1bXXy9bcjX3"
      }
    },
    {
      "cell_type": "code",
      "source": [
        "numbers = [3, 5, 6, 10, 2, 8]\n",
        "for i in range(len(numbers)):\n",
        "    print(numbers[i], end = \" \")\n",
        "print() # 換行\n",
        "# 由右到左\n",
        "for i in range(len(numbers)-1,-1,-1):\n",
        "    print(numbers[i], end = \" \")"
      ],
      "metadata": {
        "colab": {
          "base_uri": "https://localhost:8080/"
        },
        "id": "s4Q4Uo8Pcmvg",
        "outputId": "2bd4478e-47b8-4785-ae26-58e681ca02bc"
      },
      "execution_count": 17,
      "outputs": [
        {
          "output_type": "stream",
          "name": "stdout",
          "text": [
            "3 5 6 10 2 8 \n",
            "8 2 10 6 5 3 "
          ]
        }
      ]
    },
    {
      "cell_type": "code",
      "source": [
        "# python 風格寫法\n",
        "numbers = [3, 5, 6, 10, 2, 8]\n",
        "for v in numbers:\n",
        "    print(v, end=\" \")\n",
        "print()"
      ],
      "metadata": {
        "colab": {
          "base_uri": "https://localhost:8080/"
        },
        "id": "6MMdcCC5dKwf",
        "outputId": "dd15ac48-c5b2-43f9-df3d-25465f924a1a"
      },
      "execution_count": 18,
      "outputs": [
        {
          "output_type": "stream",
          "name": "stdout",
          "text": [
            "3 5 6 10 2 8 \n"
          ]
        }
      ]
    },
    {
      "cell_type": "code",
      "source": [
        "# enumerate\n",
        "for i, v in enumerate(numbers):\n",
        "    print(f\"index: {i}, value: {v}\")"
      ],
      "metadata": {
        "colab": {
          "base_uri": "https://localhost:8080/"
        },
        "id": "CP_vAEmaeV3Y",
        "outputId": "2960803f-f594-4304-c8f7-3bab0c8d65e2"
      },
      "execution_count": 19,
      "outputs": [
        {
          "output_type": "stream",
          "name": "stdout",
          "text": [
            "index: 0, value: 3\n",
            "index: 1, value: 5\n",
            "index: 2, value: 6\n",
            "index: 3, value: 10\n",
            "index: 4, value: 2\n",
            "index: 5, value: 8\n"
          ]
        }
      ]
    },
    {
      "cell_type": "code",
      "source": [
        "# 迴圈 + 串列 (解答)\n",
        "n = int(input())\n",
        "ans = []\n",
        "for i in range(n):\n",
        "  temp = int(input())\n",
        "  ans.append(temp)\n",
        "print(f\"總和: {sum(ans)}, 最小值: {min(ans)}, 最大值: {max(ans)}\")"
      ],
      "metadata": {
        "colab": {
          "base_uri": "https://localhost:8080/"
        },
        "id": "T1mUMXTPe1-K",
        "outputId": "42bd6c53-b44e-40f4-9156-e9007695e2c1"
      },
      "execution_count": 20,
      "outputs": [
        {
          "output_type": "stream",
          "name": "stdout",
          "text": [
            "5\n",
            "32\n",
            "31\n",
            "65\n",
            "32\n",
            "100\n",
            "總和: 260, 最小值: 31, 最大值: 100\n"
          ]
        }
      ]
    },
    {
      "cell_type": "markdown",
      "source": [
        "# **字串**"
      ],
      "metadata": {
        "id": "5cMne55EhRnm"
      }
    },
    {
      "cell_type": "code",
      "source": [
        "name = \"Thousand\"\n",
        "print(name[0])\n",
        "print(len(name))"
      ],
      "metadata": {
        "colab": {
          "base_uri": "https://localhost:8080/"
        },
        "id": "pJItorUphT_1",
        "outputId": "d6278558-1b43-4fd4-bca7-3cdb4a4479bc"
      },
      "execution_count": 21,
      "outputs": [
        {
          "output_type": "stream",
          "name": "stdout",
          "text": [
            "T\n",
            "8\n"
          ]
        }
      ]
    },
    {
      "cell_type": "code",
      "source": [
        "name = name.lower() # 記得 assign 回去\n",
        "print(name)\n",
        "name = name.upper()\n",
        "print(name)\n",
        "print(name[0].islower())\n",
        "print(name[0].isupper())"
      ],
      "metadata": {
        "colab": {
          "base_uri": "https://localhost:8080/"
        },
        "id": "cv23_y_vhwfg",
        "outputId": "06e68272-a8de-4095-efa3-ec4cde574b2b"
      },
      "execution_count": 22,
      "outputs": [
        {
          "output_type": "stream",
          "name": "stdout",
          "text": [
            "thousand\n",
            "THOUSAND\n",
            "False\n",
            "True\n"
          ]
        }
      ]
    },
    {
      "cell_type": "code",
      "source": [
        "s = input(\"\")"
      ],
      "metadata": {
        "colab": {
          "base_uri": "https://localhost:8080/"
        },
        "id": "-a_jmskeiBKS",
        "outputId": "b495a1af-f99a-40d4-d666-42568e2074ef"
      },
      "execution_count": 27,
      "outputs": [
        {
          "name": "stdout",
          "output_type": "stream",
          "text": [
            "3 2 5 7 8\n"
          ]
        }
      ]
    },
    {
      "cell_type": "code",
      "source": [
        "s.split()"
      ],
      "metadata": {
        "colab": {
          "base_uri": "https://localhost:8080/"
        },
        "id": "O7yl6hBFi-q6",
        "outputId": "362d58b6-1da8-4a43-c03a-71d303a98c5f"
      },
      "execution_count": 28,
      "outputs": [
        {
          "output_type": "execute_result",
          "data": {
            "text/plain": [
              "['3', '2', '5', '7', '8']"
            ]
          },
          "metadata": {},
          "execution_count": 28
        }
      ]
    },
    {
      "cell_type": "code",
      "source": [
        "s = input(\"\")"
      ],
      "metadata": {
        "colab": {
          "base_uri": "https://localhost:8080/"
        },
        "id": "uMLT1UnSjBgm",
        "outputId": "56507025-d396-4282-84ae-dc61b9f529f5"
      },
      "execution_count": 30,
      "outputs": [
        {
          "name": "stdout",
          "output_type": "stream",
          "text": [
            "3,2,5,7,8\n"
          ]
        }
      ]
    },
    {
      "cell_type": "code",
      "source": [
        "s.split(\",\")"
      ],
      "metadata": {
        "colab": {
          "base_uri": "https://localhost:8080/"
        },
        "id": "GF39gkdnjPhy",
        "outputId": "d7056a30-e256-4dd4-ac80-ec9ca4160ef8"
      },
      "execution_count": 31,
      "outputs": [
        {
          "output_type": "execute_result",
          "data": {
            "text/plain": [
              "['3', '2', '5', '7', '8']"
            ]
          },
          "metadata": {},
          "execution_count": 31
        }
      ]
    },
    {
      "cell_type": "code",
      "source": [
        "# 迴圈 + 字串 (解答1)\n",
        "s = input()\n",
        "s = s.split()\n",
        "ans = []\n",
        "for v in s:\n",
        "    ans.append(int(v))\n",
        "print(ans)"
      ],
      "metadata": {
        "colab": {
          "base_uri": "https://localhost:8080/"
        },
        "id": "vIpVqr76jUQh",
        "outputId": "c65e5cce-d385-44bd-9c6d-988c31f8ee06"
      },
      "execution_count": 32,
      "outputs": [
        {
          "output_type": "stream",
          "name": "stdout",
          "text": [
            "3 2 5 7 8\n",
            "[3, 2, 5, 7, 8]\n"
          ]
        }
      ]
    },
    {
      "cell_type": "code",
      "source": [
        "# 迴圈 + 字串 (解答2)\n",
        "s = input()\n",
        "count = 0\n",
        "for v in s:\n",
        "    if v == \"a\":\n",
        "        count += 1\n",
        "print(count)"
      ],
      "metadata": {
        "colab": {
          "base_uri": "https://localhost:8080/"
        },
        "id": "LF1bktXEksgb",
        "outputId": "4dc47d23-cf7f-41fc-fde2-ec4dddac2960"
      },
      "execution_count": 33,
      "outputs": [
        {
          "output_type": "stream",
          "name": "stdout",
          "text": [
            "abijvkgigjekgjbaafigjnaa\n",
            "5\n"
          ]
        }
      ]
    },
    {
      "cell_type": "code",
      "source": [
        "n = int(input())\n",
        "# ans = []\n",
        "# for i in range(n):\n",
        "#   if i % 2 == 0:\n",
        "#     ans.append(i)\n",
        "\n",
        "ans = [i for i in range(n) if i % 2 == 0]\n",
        "print(ans)"
      ],
      "metadata": {
        "colab": {
          "base_uri": "https://localhost:8080/"
        },
        "id": "DBd5vowVlXlX",
        "outputId": "30879431-223c-465e-e0cf-f2bdf6f10011"
      },
      "execution_count": 36,
      "outputs": [
        {
          "output_type": "stream",
          "name": "stdout",
          "text": [
            "10\n",
            "[0, 2, 4, 6, 8]\n"
          ]
        }
      ]
    }
  ]
}