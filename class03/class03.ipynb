{
  "nbformat": 4,
  "nbformat_minor": 0,
  "metadata": {
    "colab": {
      "name": "class03.ipynb",
      "provenance": [],
      "mount_file_id": "1H1a7_g2cGWurohmkcyiSSl9amVHcGKLh",
      "authorship_tag": "ABX9TyNyOrAhsxN/IBgr2z61UJDY",
      "include_colab_link": true
    },
    "kernelspec": {
      "name": "python3",
      "display_name": "Python 3"
    },
    "language_info": {
      "name": "python"
    }
  },
  "cells": [
    {
      "cell_type": "markdown",
      "metadata": {
        "id": "view-in-github",
        "colab_type": "text"
      },
      "source": [
        "<a href=\"https://colab.research.google.com/github/ThousandAI/pycs4001/blob/main/class03/class03.ipynb\" target=\"_parent\"><img src=\"https://colab.research.google.com/assets/colab-badge.svg\" alt=\"Open In Colab\"/></a>"
      ]
    },
    {
      "cell_type": "markdown",
      "source": [
        "# **雙層串列 & 雙層迴圈**"
      ],
      "metadata": {
        "id": "BcZXPkTLXj4J"
      }
    },
    {
      "cell_type": "code",
      "source": [
        "# 雙層串列\n",
        "matrix = [[32, 57, 89], [59,20,66], [66,78,82], [32,89,100], [70,100,30]]\n",
        "print(matrix[0])\n",
        "print(matrix[2][1])"
      ],
      "metadata": {
        "colab": {
          "base_uri": "https://localhost:8080/"
        },
        "id": "xjty3sehXohQ",
        "outputId": "e2a2cdc5-2b0c-4310-8d8e-b0b844057ce7"
      },
      "execution_count": 1,
      "outputs": [
        {
          "output_type": "stream",
          "name": "stdout",
          "text": [
            "[32, 57, 89]\n",
            "78\n"
          ]
        }
      ]
    },
    {
      "cell_type": "code",
      "source": [
        "# 雙層迴圈\n",
        "for i in range(5):\n",
        "    print(f\"{i}: \",end=\"\")\n",
        "    for j in range(3):\n",
        "        print(f\"{j}\",end=\" \")\n",
        "    print()"
      ],
      "metadata": {
        "colab": {
          "base_uri": "https://localhost:8080/"
        },
        "id": "3QTOafLGXqrA",
        "outputId": "abfac50d-580c-4a20-d143-a4d70805b0d9"
      },
      "execution_count": 2,
      "outputs": [
        {
          "output_type": "stream",
          "name": "stdout",
          "text": [
            "0: 0 1 2 \n",
            "1: 0 1 2 \n",
            "2: 0 1 2 \n",
            "3: 0 1 2 \n",
            "4: 0 1 2 \n"
          ]
        }
      ]
    },
    {
      "cell_type": "code",
      "source": [
        "# 雙層迴圈 (解答1)\n",
        "n = int(input())\n",
        "for i in range(n):\n",
        "    for j in range(i+1):\n",
        "        print(\"*\",end=\"\")\n",
        "    print()"
      ],
      "metadata": {
        "colab": {
          "base_uri": "https://localhost:8080/"
        },
        "id": "j7lCRQPaX2X8",
        "outputId": "a8110154-343f-4247-f7ca-645bcf12b163"
      },
      "execution_count": 3,
      "outputs": [
        {
          "output_type": "stream",
          "name": "stdout",
          "text": [
            "5\n",
            "*\n",
            "**\n",
            "***\n",
            "****\n",
            "*****\n"
          ]
        }
      ]
    },
    {
      "cell_type": "code",
      "source": [
        "# 雙層迴圈 (解答2)\n",
        "n = int(input())\n",
        "for i in range(n):\n",
        "    for j in range(n-i):\n",
        "        print(\"*\",end=\"\")\n",
        "    print()"
      ],
      "metadata": {
        "colab": {
          "base_uri": "https://localhost:8080/"
        },
        "id": "GFsB47ybX5fa",
        "outputId": "ae090ce6-cd03-4956-a219-afad82a170cb"
      },
      "execution_count": 4,
      "outputs": [
        {
          "output_type": "stream",
          "name": "stdout",
          "text": [
            "5\n",
            "*****\n",
            "****\n",
            "***\n",
            "**\n",
            "*\n"
          ]
        }
      ]
    },
    {
      "cell_type": "code",
      "source": [
        "# 雙層迴圈 (解答3)\n",
        "n = int(input())\n",
        "for i in range(n):\n",
        "    for j in range(n-i-1):\n",
        "        print(\" \",end=\"\")\n",
        "    for k in range(i+1):\n",
        "        print(\"*\",end=\"\")\n",
        "    print()"
      ],
      "metadata": {
        "colab": {
          "base_uri": "https://localhost:8080/"
        },
        "id": "OBMaD_0SX5jU",
        "outputId": "28df8e1c-2c74-44d1-ceba-6666bed3cd74"
      },
      "execution_count": 5,
      "outputs": [
        {
          "output_type": "stream",
          "name": "stdout",
          "text": [
            "5\n",
            "    *\n",
            "   **\n",
            "  ***\n",
            " ****\n",
            "*****\n"
          ]
        }
      ]
    },
    {
      "cell_type": "code",
      "source": [
        "# 雙層迴圈 + 雙層串列\n",
        "matrix = [[32, 57, 89], [59,20,66], [66,78,82], [32,89,100], [70,100,30]]\n",
        "row = len(matrix)\n",
        "col = len(matrix[0])\n",
        "for i in range(row):\n",
        "    for j in range(col):\n",
        "        print(matrix[i][j],end=\" \")\n",
        "    print()"
      ],
      "metadata": {
        "colab": {
          "base_uri": "https://localhost:8080/"
        },
        "id": "rtNVAMz3X5mL",
        "outputId": "9951a3e3-a69f-4e8e-ad1f-e18a6d4f0bdd"
      },
      "execution_count": 6,
      "outputs": [
        {
          "output_type": "stream",
          "name": "stdout",
          "text": [
            "32 57 89 \n",
            "59 20 66 \n",
            "66 78 82 \n",
            "32 89 100 \n",
            "70 100 30 \n"
          ]
        }
      ]
    },
    {
      "cell_type": "code",
      "source": [
        "# 雙層迴圈 + 雙層串列 (解答)\n",
        "matrix = [[32, 57, 89], [59,20,66], [66,78,82], [32,89,100], [70,100,30]]\n",
        "row = len(matrix)\n",
        "row_ans = [0 for i in range(row)]\n",
        "col = len(matrix[0])\n",
        "col_ans = [0 for j in range(col)]\n",
        "for i in range(row):\n",
        "    for j in range(col):\n",
        "        row_ans[i] += matrix[i][j]\n",
        "        col_ans[j] += matrix[i][j]\n",
        "print(f\"row 總和: {row_ans}\")\n",
        "print(f\"col 總和: {col_ans}\")"
      ],
      "metadata": {
        "colab": {
          "base_uri": "https://localhost:8080/"
        },
        "id": "7NHkyHoDYElk",
        "outputId": "03a48d94-3f3a-45bc-978b-cf683ac11429"
      },
      "execution_count": 7,
      "outputs": [
        {
          "output_type": "stream",
          "name": "stdout",
          "text": [
            "row 總和: [178, 145, 226, 221, 200]\n",
            "col 總和: [259, 344, 367]\n"
          ]
        }
      ]
    },
    {
      "cell_type": "markdown",
      "source": [
        "# **函式**"
      ],
      "metadata": {
        "id": "nJJy1pA2qDbH"
      }
    },
    {
      "cell_type": "markdown",
      "source": [
        ""
      ],
      "metadata": {
        "id": "7VYXB2sOXivO"
      }
    },
    {
      "cell_type": "code",
      "source": [
        "def show():\n",
        "    print(\"Welcome!!\")\n",
        "def say_hello(name):\n",
        "    print(f\"Hello {name}\")\n",
        "def add_numbers(num1, num2):\n",
        "  print(num1)\n",
        "  print(num2)\n",
        "  print(num1 + num2)"
      ],
      "metadata": {
        "id": "HQ0wqPzbqChC"
      },
      "execution_count": 8,
      "outputs": []
    },
    {
      "cell_type": "code",
      "source": [
        "show()\n",
        "say_hello(name = \"Thousand\")  # say_hello(\"Thousand\")\n",
        "add_numbers(num2 = 9, num1 = 3) # add_numbers(3, 9)"
      ],
      "metadata": {
        "colab": {
          "base_uri": "https://localhost:8080/"
        },
        "id": "9YN30kGLqCjY",
        "outputId": "8a8d5993-353d-4dd4-b3c8-0af057e0b620"
      },
      "execution_count": 9,
      "outputs": [
        {
          "output_type": "stream",
          "name": "stdout",
          "text": [
            "Welcome!!\n",
            "Hello Thousand\n",
            "3\n",
            "9\n",
            "12\n"
          ]
        }
      ]
    },
    {
      "cell_type": "code",
      "source": [
        "# 函式生命週期\n",
        "def show():\n",
        "    number = 3\n",
        "    print(f\"This is show function: {number}\")\n",
        "show()\n",
        "print(number) # 由於函式的生命週期結束，在此函式內部產生的變數都會消失"
      ],
      "metadata": {
        "id": "4YYEfYUVqCHR",
        "colab": {
          "base_uri": "https://localhost:8080/",
          "height": 226
        },
        "outputId": "03015609-5058-4185-e927-cb084c71290f"
      },
      "execution_count": 10,
      "outputs": [
        {
          "output_type": "stream",
          "name": "stdout",
          "text": [
            "This is show function: 3\n"
          ]
        },
        {
          "output_type": "error",
          "ename": "NameError",
          "evalue": "ignored",
          "traceback": [
            "\u001b[0;31m---------------------------------------------------------------------------\u001b[0m",
            "\u001b[0;31mNameError\u001b[0m                                 Traceback (most recent call last)",
            "\u001b[0;32m<ipython-input-10-9c7e0f3690e1>\u001b[0m in \u001b[0;36m<module>\u001b[0;34m()\u001b[0m\n\u001b[1;32m      4\u001b[0m     \u001b[0mprint\u001b[0m\u001b[0;34m(\u001b[0m\u001b[0;34mf\"This is show function: {number}\"\u001b[0m\u001b[0;34m)\u001b[0m\u001b[0;34m\u001b[0m\u001b[0;34m\u001b[0m\u001b[0m\n\u001b[1;32m      5\u001b[0m \u001b[0mshow\u001b[0m\u001b[0;34m(\u001b[0m\u001b[0;34m)\u001b[0m\u001b[0;34m\u001b[0m\u001b[0;34m\u001b[0m\u001b[0m\n\u001b[0;32m----> 6\u001b[0;31m \u001b[0mprint\u001b[0m\u001b[0;34m(\u001b[0m\u001b[0mnumber\u001b[0m\u001b[0;34m)\u001b[0m \u001b[0;31m# 由於函式的生命週期結束，在此函式內部產生的變數都會消失\u001b[0m\u001b[0;34m\u001b[0m\u001b[0;34m\u001b[0m\u001b[0m\n\u001b[0m",
            "\u001b[0;31mNameError\u001b[0m: name 'number' is not defined"
          ]
        }
      ]
    },
    {
      "cell_type": "code",
      "source": [
        "# 操作全域變數\n",
        "total = 0\n",
        "def change_number():\n",
        "    print(total)  # 可以看到區域變數\n",
        "    # total += 1 # 不能操作全域變數\n",
        "change_number()"
      ],
      "metadata": {
        "colab": {
          "base_uri": "https://localhost:8080/"
        },
        "id": "tC66KjppqCJm",
        "outputId": "84148f0b-3242-40c0-eb71-2df8e4257768"
      },
      "execution_count": 11,
      "outputs": [
        {
          "output_type": "stream",
          "name": "stdout",
          "text": [
            "0\n"
          ]
        }
      ]
    },
    {
      "cell_type": "code",
      "source": [
        "# 全域變數與區域變數同名\n",
        "total = 3\n",
        "def change_number():\n",
        "    total = 5\n",
        "    total += 3\n",
        "    print(f\"This is change_number function: {total}\")\n",
        "change_number()\n",
        "print(f\"This is main function: {total}\")"
      ],
      "metadata": {
        "colab": {
          "base_uri": "https://localhost:8080/"
        },
        "id": "8Zs0qDy9YevN",
        "outputId": "71d7dc14-03db-4d46-e83b-fc642d2b743d"
      },
      "execution_count": 12,
      "outputs": [
        {
          "output_type": "stream",
          "name": "stdout",
          "text": [
            "This is change_number function: 8\n",
            "This is main function: 3\n"
          ]
        }
      ]
    },
    {
      "cell_type": "code",
      "source": [
        "# call by reference\n",
        "num = 3\n",
        "def change_number(num):\n",
        "    print(id(num))\n",
        "    num += 2\n",
        "    print(id(num))\n",
        "print(f\"Before change_number function: {num}\")\n",
        "print(id(num))\n",
        "change_number(num = num)\n",
        "print(f\"After change_number function: {num}\")"
      ],
      "metadata": {
        "colab": {
          "base_uri": "https://localhost:8080/"
        },
        "id": "-nETWIYrqCL-",
        "outputId": "ba8d6b13-3b4e-492f-a58d-0c7d71715359"
      },
      "execution_count": 13,
      "outputs": [
        {
          "output_type": "stream",
          "name": "stdout",
          "text": [
            "Before change_number function: 3\n",
            "11256128\n",
            "11256128\n",
            "11256192\n",
            "After change_number function: 3\n"
          ]
        }
      ]
    },
    {
      "cell_type": "code",
      "source": [
        "# call by reference (list)\n",
        "numbers = [3,2,8,10,15,18]\n",
        "def change_numbers(numbers):\n",
        "    numbers.append(10)\n",
        "print(f\"Before change_numbers function: {numbers}\")\n",
        "change_numbers(numbers = numbers)\n",
        "print(f\"After change_numbers function: {numbers}\")"
      ],
      "metadata": {
        "colab": {
          "base_uri": "https://localhost:8080/"
        },
        "id": "0j7D2vARYl-d",
        "outputId": "99fd3e6e-7f6d-4584-fb04-68c1edf7750e"
      },
      "execution_count": 14,
      "outputs": [
        {
          "output_type": "stream",
          "name": "stdout",
          "text": [
            "Before change_numbers function: [3, 2, 8, 10, 15, 18]\n",
            "After change_numbers function: [3, 2, 8, 10, 15, 18, 10]\n"
          ]
        }
      ]
    },
    {
      "cell_type": "code",
      "source": [
        "# return\n",
        "def get_mean(numbers):\n",
        "    total = 0\n",
        "    for v in numbers:\n",
        "        total += v\n",
        "    return total / len(numbers)\n",
        "numbers = [85, 95, 96]\n",
        "ans = get_mean(numbers = numbers)\n",
        "print(ans)"
      ],
      "metadata": {
        "colab": {
          "base_uri": "https://localhost:8080/"
        },
        "id": "-KpUkGjBYmAi",
        "outputId": "507e02e1-3772-4cc6-f878-ed2ab38ce27a"
      },
      "execution_count": 15,
      "outputs": [
        {
          "output_type": "stream",
          "name": "stdout",
          "text": [
            "92.0\n"
          ]
        }
      ]
    },
    {
      "cell_type": "code",
      "source": [
        "# import\n",
        "import random\n",
        "# import random as r\n",
        "# from random import randint\n",
        "sample = random.randint(1,100)\n",
        "print(sample)"
      ],
      "metadata": {
        "colab": {
          "base_uri": "https://localhost:8080/"
        },
        "id": "RkVPB4wVYu7G",
        "outputId": "c8f39a00-e47c-4718-d9f1-ee1e82b7568c"
      },
      "execution_count": 16,
      "outputs": [
        {
          "output_type": "stream",
          "name": "stdout",
          "text": [
            "8\n"
          ]
        }
      ]
    },
    {
      "cell_type": "code",
      "source": [
        "# random 函數 (解答)\n",
        "import random\n",
        "n = int(input())\n",
        "for i in range(n):\n",
        "    print(random.randint(1,100), end=\" \")"
      ],
      "metadata": {
        "colab": {
          "base_uri": "https://localhost:8080/"
        },
        "id": "NtghYeRuYu9d",
        "outputId": "6c287ea6-d914-4be9-90dc-9e589c01b4fd"
      },
      "execution_count": 17,
      "outputs": [
        {
          "output_type": "stream",
          "name": "stdout",
          "text": [
            "10\n",
            "43 84 52 7 12 59 65 85 99 48 "
          ]
        }
      ]
    },
    {
      "cell_type": "code",
      "source": [
        "# lambda\n",
        "add = lambda x: x+3\n",
        "print(add(3))\n",
        "print((lambda x: x+3)(3))\n",
        "mul = lambda x,y: x*y\n",
        "print(mul(3,5))"
      ],
      "metadata": {
        "colab": {
          "base_uri": "https://localhost:8080/"
        },
        "id": "N-R-GsEHYu_h",
        "outputId": "fd82fad1-fe7b-497b-b4a9-6278b85c0b1e"
      },
      "execution_count": 18,
      "outputs": [
        {
          "output_type": "stream",
          "name": "stdout",
          "text": [
            "6\n",
            "6\n",
            "15\n"
          ]
        }
      ]
    },
    {
      "cell_type": "code",
      "source": [
        "# filter, map, sorted\n",
        "numbers = [3, 50, 2, 80, 49, 10, 6]\n",
        "print(list(filter(lambda x: x > 10, numbers)))\n",
        "print(list(map(lambda x: x + 3, numbers)))\n",
        "scores = [[\"Harry\", 32], [\"Berry\", 31], [\"Thousand\", 21]]\n",
        "print(sorted(scores, key = lambda x:x[1]))"
      ],
      "metadata": {
        "colab": {
          "base_uri": "https://localhost:8080/"
        },
        "id": "kh_B-HnVYvBm",
        "outputId": "21e76a37-3a53-4168-85a9-af273624ec64"
      },
      "execution_count": 19,
      "outputs": [
        {
          "output_type": "stream",
          "name": "stdout",
          "text": [
            "[50, 80, 49]\n",
            "[6, 53, 5, 83, 52, 13, 9]\n",
            "[['Thousand', 21], ['Berry', 31], ['Harry', 32]]\n"
          ]
        }
      ]
    },
    {
      "cell_type": "code",
      "source": [
        "# 補充\n",
        "numbers = input().split()\n",
        "print(list(map(lambda x: int(x), numbers)))"
      ],
      "metadata": {
        "colab": {
          "base_uri": "https://localhost:8080/"
        },
        "id": "p_xpClm1ZOP-",
        "outputId": "71dca7e8-0460-484a-a9ea-7adb0d81ae24"
      },
      "execution_count": 20,
      "outputs": [
        {
          "output_type": "stream",
          "name": "stdout",
          "text": [
            "23 52 87 98 96 100\n",
            "[23, 52, 87, 98, 96, 100]\n"
          ]
        }
      ]
    },
    {
      "cell_type": "code",
      "source": [
        "# 補充 *args\n",
        "def add(name, gender, *args):\n",
        "  print(name)\n",
        "  print(gender)\n",
        "  print(sum(args))\n",
        "\n",
        "add(\"Thousand\", \"Male\", 1,2,3,4,5,6)"
      ],
      "metadata": {
        "colab": {
          "base_uri": "https://localhost:8080/"
        },
        "id": "p_xN_PlbZXbu",
        "outputId": "89df41be-fc65-4898-e89b-2faee8a5acff"
      },
      "execution_count": 21,
      "outputs": [
        {
          "output_type": "stream",
          "name": "stdout",
          "text": [
            "Thousand\n",
            "Male\n",
            "21\n"
          ]
        }
      ]
    },
    {
      "cell_type": "code",
      "source": [
        "# 補充 **kwargs\n",
        "def add(name, gender, **kwargs):\n",
        "  print(name)\n",
        "  print(gender)\n",
        "  print(kwargs)\n",
        "\n",
        "add(\"Thousand\", \"Male\", math=100, english=98, physics= 97)"
      ],
      "metadata": {
        "colab": {
          "base_uri": "https://localhost:8080/"
        },
        "id": "2D0uLHt3Zb3T",
        "outputId": "98eca67d-1f7d-44f4-b58b-da3d8c3e735a"
      },
      "execution_count": 22,
      "outputs": [
        {
          "output_type": "stream",
          "name": "stdout",
          "text": [
            "Thousand\n",
            "Male\n",
            "{'math': 100, 'english': 98, 'physics': 97}\n"
          ]
        }
      ]
    },
    {
      "cell_type": "code",
      "source": [
        "# module & package 必須使用 .py 檔才能 import"
      ],
      "metadata": {
        "id": "s3hIb8VRYvDr"
      },
      "execution_count": 23,
      "outputs": []
    }
  ]
}