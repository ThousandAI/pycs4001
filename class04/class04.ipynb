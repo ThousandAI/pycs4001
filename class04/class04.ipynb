{
  "nbformat": 4,
  "nbformat_minor": 0,
  "metadata": {
    "colab": {
      "name": "class04.ipynb",
      "provenance": [],
      "collapsed_sections": [],
      "authorship_tag": "ABX9TyOZqX83vVaDGmPmAxUcIA5z",
      "include_colab_link": true
    },
    "kernelspec": {
      "name": "python3",
      "display_name": "Python 3"
    },
    "language_info": {
      "name": "python"
    }
  },
  "cells": [
    {
      "cell_type": "markdown",
      "metadata": {
        "id": "view-in-github",
        "colab_type": "text"
      },
      "source": [
        "<a href=\"https://colab.research.google.com/github/ThousandAI/pycs4001/blob/main/class04/class04.ipynb\" target=\"_parent\"><img src=\"https://colab.research.google.com/assets/colab-badge.svg\" alt=\"Open In Colab\"/></a>"
      ]
    },
    {
      "cell_type": "markdown",
      "source": [
        "# **函式**\n"
      ],
      "metadata": {
        "id": "UDHz5BHbNNlQ"
      }
    },
    {
      "cell_type": "code",
      "source": [
        "def get_sum(course,*args):\n",
        "    scores = sum(args)\n",
        "    print(f\"{course} 總分為: {scores}\")\n",
        "get_sum(\"Math\",30,20,60,80,100,90,70,98)"
      ],
      "metadata": {
        "colab": {
          "base_uri": "https://localhost:8080/"
        },
        "id": "et9rQiycNR8b",
        "outputId": "f01594b7-4e14-40d8-fd5e-fda2c88e916b"
      },
      "execution_count": 1,
      "outputs": [
        {
          "output_type": "stream",
          "name": "stdout",
          "text": [
            "Math 總分為: 548\n"
          ]
        }
      ]
    },
    {
      "cell_type": "code",
      "source": [
        "def get_sports(sports, **kwargs):\n",
        "    print(sports)\n",
        "    print(kwargs)\n",
        "    for k,v in kwargs.items():\n",
        "        print(f\"{k}: {v}\")\n",
        "get_sports( \"basketball\",curry=[15,10,5,10], thompson= [20,10,10,5] )"
      ],
      "metadata": {
        "colab": {
          "base_uri": "https://localhost:8080/"
        },
        "id": "JYNw1FKbNVq_",
        "outputId": "3b8afcbb-e3a4-403e-d2c1-b65d68811617"
      },
      "execution_count": 2,
      "outputs": [
        {
          "output_type": "stream",
          "name": "stdout",
          "text": [
            "basketball\n",
            "{'curry': [15, 10, 5, 10], 'thompson': [20, 10, 10, 5]}\n",
            "curry: [15, 10, 5, 10]\n",
            "thompson: [20, 10, 10, 5]\n"
          ]
        }
      ]
    },
    {
      "cell_type": "markdown",
      "source": [
        "# **字典**"
      ],
      "metadata": {
        "id": "TFfj8q-hNeUG"
      }
    },
    {
      "cell_type": "code",
      "source": [
        "# dictionary\n",
        "dic = {\"sports\":[\"basketball\", \"football\"], \"name\": [\"Allie\", \"Thousand\"]}\n",
        "print(dic[\"sports\"])\n",
        "print(dic[\"sports\"][0])\n",
        "# 新增 key\n",
        "dic[\"scores\"] = [70, 80, 90, 100] # 跟 list 新增方式不一樣，更為簡單\n",
        "dic[\"hobby\"] = \"Reading\" # value 也可以只有一個人\n",
        "print(dic)"
      ],
      "metadata": {
        "colab": {
          "base_uri": "https://localhost:8080/"
        },
        "id": "Xu50kqa8NhHg",
        "outputId": "f4e3aafb-3698-45f3-8ba6-58f6d7a4a7b6"
      },
      "execution_count": 3,
      "outputs": [
        {
          "output_type": "stream",
          "name": "stdout",
          "text": [
            "['basketball', 'football']\n",
            "basketball\n",
            "{'sports': ['basketball', 'football'], 'name': ['Allie', 'Thousand'], 'scores': [70, 80, 90, 100], 'hobby': 'Reading'}\n"
          ]
        }
      ]
    },
    {
      "cell_type": "code",
      "source": [
        "# 迴圈 + 字典\n",
        "for key in dic.keys():\n",
        "    print(f\"key is: {key}\")"
      ],
      "metadata": {
        "colab": {
          "base_uri": "https://localhost:8080/"
        },
        "id": "WtTF5oP2NkRV",
        "outputId": "62602eee-52f6-40e3-bb1f-828cc1ccf191"
      },
      "execution_count": 4,
      "outputs": [
        {
          "output_type": "stream",
          "name": "stdout",
          "text": [
            "key is: sports\n",
            "key is: name\n",
            "key is: scores\n",
            "key is: hobby\n"
          ]
        }
      ]
    },
    {
      "cell_type": "code",
      "source": [
        "for value in dic.values():\n",
        "    print(f\"value is: {value}\")"
      ],
      "metadata": {
        "colab": {
          "base_uri": "https://localhost:8080/"
        },
        "id": "a6kWxEFuNngX",
        "outputId": "7685e3f0-501a-4a7f-f1db-2d9c1252d50d"
      },
      "execution_count": 5,
      "outputs": [
        {
          "output_type": "stream",
          "name": "stdout",
          "text": [
            "value is: ['basketball', 'football']\n",
            "value is: ['Allie', 'Thousand']\n",
            "value is: [70, 80, 90, 100]\n",
            "value is: Reading\n"
          ]
        }
      ]
    },
    {
      "cell_type": "code",
      "source": [
        "for key, value in dic.items():\n",
        "    print(f\"key is: {key}, and value is: {value}\")"
      ],
      "metadata": {
        "colab": {
          "base_uri": "https://localhost:8080/"
        },
        "id": "ldc0Cr4fNpK4",
        "outputId": "7a1b4eff-59fe-435e-bd56-67661e6286c9"
      },
      "execution_count": 6,
      "outputs": [
        {
          "output_type": "stream",
          "name": "stdout",
          "text": [
            "key is: sports, and value is: ['basketball', 'football']\n",
            "key is: name, and value is: ['Allie', 'Thousand']\n",
            "key is: scores, and value is: [70, 80, 90, 100]\n",
            "key is: hobby, and value is: Reading\n"
          ]
        }
      ]
    },
    {
      "cell_type": "code",
      "source": [
        "n = int(input())\n",
        "dic = {}\n",
        "for i in range(n):\n",
        "    tem = input().split()\n",
        "    if tem[0] not in dic:\n",
        "        dic[tem[0]] = [int(tem[1])]\n",
        "    else:\n",
        "        dic[tem[0]] += [int(tem[1])]\n",
        "print(dic)"
      ],
      "metadata": {
        "colab": {
          "base_uri": "https://localhost:8080/"
        },
        "id": "7twHSjlbNuxO",
        "outputId": "87e52a63-963c-4330-b9b3-c8424dda0ce5"
      },
      "execution_count": 7,
      "outputs": [
        {
          "output_type": "stream",
          "name": "stdout",
          "text": [
            "7\n",
            "Harry 37\n",
            "Json 25\n",
            "Json 36\n",
            "Harry 38\n",
            "Tom 50\n",
            "Harry 36\n",
            "Tom 20\n",
            "{'Harry': [37, 38, 36], 'Json': [25, 36], 'Tom': [50, 20]}\n"
          ]
        }
      ]
    },
    {
      "cell_type": "code",
      "source": [
        "# sorted + 字典 (解答)\n",
        "dic = {\"Harry\":32,\"Berry\":31,\"Thousand\":21,\"Becky\":50,\"Allie\":37}\n",
        "sorted_tuple = sorted(dic.items(), key=lambda item: item[1])\n",
        "sorted_dic = {key: value for key, value in sorted_tuple}\n",
        "print(sorted_dic)"
      ],
      "metadata": {
        "colab": {
          "base_uri": "https://localhost:8080/"
        },
        "id": "8CvNkARbN9qF",
        "outputId": "0a8b19a0-2459-432f-9d8d-a765f5f4eb31"
      },
      "execution_count": 8,
      "outputs": [
        {
          "output_type": "stream",
          "name": "stdout",
          "text": [
            "{'Thousand': 21, 'Berry': 31, 'Harry': 32, 'Allie': 37, 'Becky': 50}\n"
          ]
        }
      ]
    },
    {
      "cell_type": "markdown",
      "source": [
        "# 物件導向 (Object Oriented Programming)"
      ],
      "metadata": {
        "id": "-YVt-OEffpI5"
      }
    },
    {
      "cell_type": "code",
      "source": [
        "class Person:\n",
        "  # 建構子 constructor\n",
        "  def __init__(self, name, gender):\n",
        "    self.n = name\n",
        "    self.g = gender\n",
        "    print(\"This is Person Class\")\n",
        "  \n",
        "  # instance method\n",
        "  def introduction(self):\n",
        "    print(f\"Hello my name is {self.n}\")"
      ],
      "metadata": {
        "id": "_O4yN_LNfuBe"
      },
      "execution_count": 9,
      "outputs": []
    },
    {
      "cell_type": "code",
      "source": [
        "# 物件化 (實體化) instance\n",
        "p1 = Person(name=\"Thousand\", gender=\"Male\")\n",
        "p2 = Person(name=\"Allie\", gender=\"Female\")"
      ],
      "metadata": {
        "colab": {
          "base_uri": "https://localhost:8080/"
        },
        "id": "OVAmVArzhKQY",
        "outputId": "13aed391-e02d-40e8-f7ce-9faa8bb65817"
      },
      "execution_count": 10,
      "outputs": [
        {
          "output_type": "stream",
          "name": "stdout",
          "text": [
            "This is Person Class\n",
            "This is Person Class\n"
          ]
        }
      ]
    },
    {
      "cell_type": "code",
      "source": [
        "print(p1.n, p1.g)\n",
        "print(p2.n, p2.g)"
      ],
      "metadata": {
        "colab": {
          "base_uri": "https://localhost:8080/"
        },
        "id": "UaVqEuWPiZGd",
        "outputId": "d3a73b4f-40cc-4ac6-b7bd-6cb1f06e1cad"
      },
      "execution_count": 11,
      "outputs": [
        {
          "output_type": "stream",
          "name": "stdout",
          "text": [
            "Thousand Male\n",
            "Allie Female\n"
          ]
        }
      ]
    },
    {
      "cell_type": "code",
      "source": [
        "p1.introduction()"
      ],
      "metadata": {
        "colab": {
          "base_uri": "https://localhost:8080/"
        },
        "id": "KXR3PmY7ibJb",
        "outputId": "cc5db157-c0c8-41d7-e64e-67966db5818c"
      },
      "execution_count": 12,
      "outputs": [
        {
          "output_type": "stream",
          "name": "stdout",
          "text": [
            "Hello my name is Thousand\n"
          ]
        }
      ]
    },
    {
      "cell_type": "code",
      "source": [
        "p2.introduction()"
      ],
      "metadata": {
        "colab": {
          "base_uri": "https://localhost:8080/"
        },
        "id": "vnr9E5RMkmCx",
        "outputId": "d523ceb0-645a-404d-b724-a4504673fa5b"
      },
      "execution_count": 13,
      "outputs": [
        {
          "output_type": "stream",
          "name": "stdout",
          "text": [
            "Hello my name is Allie\n"
          ]
        }
      ]
    },
    {
      "cell_type": "markdown",
      "source": [
        "# **物件導向舉例**"
      ],
      "metadata": {
        "id": "lcsBc5uFOfOg"
      }
    },
    {
      "cell_type": "code",
      "source": [
        "class Warrior:\n",
        "  def __init__(self, name, gender, weapon=\"bat\"):\n",
        "    self.lv = 1\n",
        "    self.exp = 0\n",
        "    self.n = name\n",
        "    self.g = gender\n",
        "    self.w = weapon\n",
        "    self.sp = 100\n",
        "    print(\"This is Warrior class.\")\n",
        "  def __str__(self):\n",
        "    return f\"Name: {self.n}, Gender: {self.g}, Weapon: {self.w}, Level: {self.lv}, Exp: {self.exp}\"\n",
        "  def attack(self, enemy):\n",
        "    self.exp += 40\n",
        "    enemy.hp -= 1\n",
        "    self.level_up()\n",
        "    print(f\"{self.n} attacked! Level: {self.lv}, Exp: {self.exp}, Enemy Hp: {enemy.hp}\")\n",
        "  def level_up(self):\n",
        "    if self.exp >= 100:\n",
        "        self.lv += 1\n",
        "        self.exp -= 100"
      ],
      "metadata": {
        "id": "bgeSuVCgOj4-"
      },
      "execution_count": 14,
      "outputs": []
    },
    {
      "cell_type": "code",
      "source": [
        "class Enemy:\n",
        "  def __init__(self):\n",
        "    self.name = \"Monster\"\n",
        "    self.hp = 100"
      ],
      "metadata": {
        "id": "CQRTrI-BOj6y"
      },
      "execution_count": 15,
      "outputs": []
    },
    {
      "cell_type": "code",
      "source": [
        "warrior1 = Warrior(name = \"Thousand\", gender = \"Male\", weapon = \"Sword\")\n",
        "warrior2 = Warrior(name = \"Allie\", gender = \"Female\", weapon = \"Longbow\")\n",
        "e1 = Enemy()\n",
        "print(f\"Warrior: {warrior1}\")\n",
        "for i in range(5):\n",
        "    warrior1.attack(e1)"
      ],
      "metadata": {
        "colab": {
          "base_uri": "https://localhost:8080/"
        },
        "id": "5hAiCkwIOj9H",
        "outputId": "589b52e4-36d9-4d7a-eb8a-1350900ebab6"
      },
      "execution_count": 16,
      "outputs": [
        {
          "output_type": "stream",
          "name": "stdout",
          "text": [
            "This is Warrior class.\n",
            "This is Warrior class.\n",
            "Warrior: Name: Thousand, Gender: Male, Weapon: Sword, Level: 1, Exp: 0\n",
            "Thousand attacked! Level: 1, Exp: 40, Enemy Hp: 99\n",
            "Thousand attacked! Level: 1, Exp: 80, Enemy Hp: 98\n",
            "Thousand attacked! Level: 2, Exp: 20, Enemy Hp: 97\n",
            "Thousand attacked! Level: 2, Exp: 60, Enemy Hp: 96\n",
            "Thousand attacked! Level: 3, Exp: 0, Enemy Hp: 95\n"
          ]
        }
      ]
    },
    {
      "cell_type": "code",
      "source": [
        "class Magician:\n",
        "  def __init__(self, name, gender, weapon=\"bat\"):\n",
        "    self.lv = 1\n",
        "    self.exp = 0\n",
        "    self.n = name\n",
        "    self.g = gender\n",
        "    self.w = weapon\n",
        "    self.mp = 100\n",
        "    print(\"This is Magician class.\")\n",
        "  def __str__(self):\n",
        "    return f\"Name: {self.n}, Gender: {self.g}, Weapon: {self.w}, Level: {self.lv}, Exp: {self.exp}\"\n",
        "  def attack(self, enemy):\n",
        "    self.exp += 40\n",
        "    enemy.hp -= 1\n",
        "    self.level_up()\n",
        "    print(f\"{self.n} attacked! Level: {self.lv}, Exp: {self.exp}, Enemy Hp: {enemy.hp}\")\n",
        "  def level_up(self):\n",
        "    if self.exp >= 100:\n",
        "        self.lv += 1\n",
        "        self.exp -= 100"
      ],
      "metadata": {
        "id": "OYlujsKyOj_M"
      },
      "execution_count": 17,
      "outputs": []
    },
    {
      "cell_type": "markdown",
      "source": [
        "# **繼承 (Inheritance)**"
      ],
      "metadata": {
        "id": "fsKArbPZzBCA"
      }
    },
    {
      "cell_type": "code",
      "source": [
        "class Character:\n",
        "  def __init__(self, name, gender, weapon=\"bat\"):\n",
        "    self.lv = 1\n",
        "    self.exp = 0\n",
        "    self.n = name\n",
        "    self.g = gender\n",
        "    self.w = weapon\n",
        "    print(\"This is Character class.\")\n",
        "\n",
        "  def __str__(self):\n",
        "      return f\"Name: {self.n}, Gender: {self.g}, Weapon: {self.w}, Level: {self.lv}, Exp: {self.exp}\"\n",
        "\n",
        "  def attack(self, enemy):\n",
        "    self.exp += 40\n",
        "    enemy.hp -= 1\n",
        "    self.level_up()\n",
        "    print(f\"{self.n} attacked! Level: {self.lv}, Exp: {self.exp}\")\n",
        "  \n",
        "  def level_up(self):\n",
        "    if self.exp >= 100:\n",
        "        self.lv += 1\n",
        "        self.exp -= 100\n",
        "        print(f\"{self.n} Level up!!!\")"
      ],
      "metadata": {
        "id": "OK2lQCiGzH3w"
      },
      "execution_count": 18,
      "outputs": []
    },
    {
      "cell_type": "code",
      "source": [
        "class Warrior(Character):\n",
        "  def __init__(self, name, gender, weapon=\"bat\"):\n",
        "      super().__init__(name, gender, weapon)\n",
        "      self.sp = 100\n",
        "  # override\n",
        "  def attack(self,enemy):\n",
        "      super().attack(enemy)\n",
        "      #print(f\"{self.n} attacked {enemy.n} with {self.w}\")\n",
        "      print(f\"with {self.w}\")\n",
        "  def bash(self, enemy):\n",
        "      if self.lv >= 5:\n",
        "          print(f\"{self.n} used bash.\")\n",
        "          enemy.hp -= 10\n",
        "      else:\n",
        "          print(\"等級5才能使用\")"
      ],
      "metadata": {
        "id": "g9PHUUIbzfRq"
      },
      "execution_count": 19,
      "outputs": []
    },
    {
      "cell_type": "code",
      "source": [
        "class Magician(Character):\n",
        "  def __init__(self, name, gender, weapon=\"bat\"):\n",
        "    super().__init__(name, gender, weapon)\n",
        "    self.mp = 100\n",
        "  def fireball(self,enemy):\n",
        "    if self.lv >= 5:\n",
        "        print(f\"{self.n} used fireball.\")\n",
        "        enemy.hp -= 10\n",
        "    else:\n",
        "        print(\"等級5才能使用\")"
      ],
      "metadata": {
        "id": "QI8O8jiT12HL"
      },
      "execution_count": 20,
      "outputs": []
    },
    {
      "cell_type": "code",
      "source": [
        "class Enemy:\n",
        "  def __init__(self):\n",
        "    self.n = 'Monster'\n",
        "    self.hp = 100"
      ],
      "metadata": {
        "id": "1yfHRAqBzfVS"
      },
      "execution_count": 21,
      "outputs": []
    },
    {
      "cell_type": "code",
      "source": [
        "warrior1 = Warrior(name=\"Thousand\", gender=\"Male\", weapon=\"Sword\")\n",
        "magician1 = Magician(name=\"Allie\", gender=\"Female\", weapon=\"Wand\")\n",
        "e1 = Enemy()\n",
        "print(warrior1)\n",
        "print(magician1)\n",
        "for i in range(10):\n",
        "    warrior1.attack(enemy=e1) # override\n",
        "warrior1.bash(enemy=e1)\n",
        "magician1.fireball(enemy=e1)"
      ],
      "metadata": {
        "colab": {
          "base_uri": "https://localhost:8080/"
        },
        "id": "wMlzi35MPNZu",
        "outputId": "2b30c716-8894-4089-ddc5-6d87b04b3764"
      },
      "execution_count": 22,
      "outputs": [
        {
          "output_type": "stream",
          "name": "stdout",
          "text": [
            "This is Character class.\n",
            "This is Character class.\n",
            "Name: Thousand, Gender: Male, Weapon: Sword, Level: 1, Exp: 0\n",
            "Name: Allie, Gender: Female, Weapon: Wand, Level: 1, Exp: 0\n",
            "Thousand attacked! Level: 1, Exp: 40\n",
            "with Sword\n",
            "Thousand attacked! Level: 1, Exp: 80\n",
            "with Sword\n",
            "Thousand Level up!!!\n",
            "Thousand attacked! Level: 2, Exp: 20\n",
            "with Sword\n",
            "Thousand attacked! Level: 2, Exp: 60\n",
            "with Sword\n",
            "Thousand Level up!!!\n",
            "Thousand attacked! Level: 3, Exp: 0\n",
            "with Sword\n",
            "Thousand attacked! Level: 3, Exp: 40\n",
            "with Sword\n",
            "Thousand attacked! Level: 3, Exp: 80\n",
            "with Sword\n",
            "Thousand Level up!!!\n",
            "Thousand attacked! Level: 4, Exp: 20\n",
            "with Sword\n",
            "Thousand attacked! Level: 4, Exp: 60\n",
            "with Sword\n",
            "Thousand Level up!!!\n",
            "Thousand attacked! Level: 5, Exp: 0\n",
            "with Sword\n",
            "Thousand used bash.\n",
            "等級5才能使用\n"
          ]
        }
      ]
    },
    {
      "cell_type": "markdown",
      "source": [
        "# **Numpy**"
      ],
      "metadata": {
        "id": "8Qb3EMym-isr"
      }
    },
    {
      "cell_type": "code",
      "source": [
        "import numpy as np"
      ],
      "metadata": {
        "id": "bmzpn1lb-krS"
      },
      "execution_count": 23,
      "outputs": []
    },
    {
      "cell_type": "code",
      "source": [
        "a = np.array([1,2,3])\n",
        "b = np.array([[1.0,2.0,3.0],[3.2,5.7,8.2]])\n",
        "print(f\"a: {a}\")\n",
        "print(f\"a dimension: {a.ndim}\")\n",
        "print(f\"a shape: {a.shape}\")\n",
        "print(f\"a type: {a.dtype}\")\n",
        "print(f\"b: {b}\")\n",
        "print(f\"b dimension: {b.ndim}\")\n",
        "print(f\"b shape: {b.shape}\")\n",
        "print(f\"b type: {b.dtype}\")"
      ],
      "metadata": {
        "colab": {
          "base_uri": "https://localhost:8080/"
        },
        "id": "264igi9B-2Q6",
        "outputId": "9d5121c1-b744-4f7f-f63a-1c862575b1c9"
      },
      "execution_count": 24,
      "outputs": [
        {
          "output_type": "stream",
          "name": "stdout",
          "text": [
            "a: [1 2 3]\n",
            "a dimension: 1\n",
            "a shape: (3,)\n",
            "a type: int64\n",
            "b: [[1.  2.  3. ]\n",
            " [3.2 5.7 8.2]]\n",
            "b dimension: 2\n",
            "b shape: (2, 3)\n",
            "b type: float64\n"
          ]
        }
      ]
    },
    {
      "cell_type": "code",
      "source": [
        "a = np.array([[1,2,3,4,5,6],[7,8,9,10,11,12]])\n",
        "a"
      ],
      "metadata": {
        "colab": {
          "base_uri": "https://localhost:8080/"
        },
        "id": "6hhuklGMBLNA",
        "outputId": "7830936e-548f-4aa3-ea23-07e7e4c1bfb6"
      },
      "execution_count": 25,
      "outputs": [
        {
          "output_type": "execute_result",
          "data": {
            "text/plain": [
              "array([[ 1,  2,  3,  4,  5,  6],\n",
              "       [ 7,  8,  9, 10, 11, 12]])"
            ]
          },
          "metadata": {},
          "execution_count": 25
        }
      ]
    },
    {
      "cell_type": "code",
      "source": [
        "# index/slice/2D\n",
        "a = np.array([[1,2,3,4,5,6],[7,8,9,10,11,12]])\n",
        "print(a[1,2]) # 9\n",
        "print(a[0,:]) # [1,2,3,4,5,6]\n",
        "print(a[:,2]) # [3,8]\n",
        "print(a[0,1:5:2]) # [2,4] (start,stop,step)\n",
        "a[1,2] = 20\n",
        "print(a)\n",
        "a[:,2] = [7,8]\n",
        "print(a)"
      ],
      "metadata": {
        "colab": {
          "base_uri": "https://localhost:8080/"
        },
        "id": "QLCCvu_6_nho",
        "outputId": "53fa554d-f5fb-4620-9f11-d5ce09afcfa9"
      },
      "execution_count": 26,
      "outputs": [
        {
          "output_type": "stream",
          "name": "stdout",
          "text": [
            "9\n",
            "[1 2 3 4 5 6]\n",
            "[3 9]\n",
            "[2 4]\n",
            "[[ 1  2  3  4  5  6]\n",
            " [ 7  8 20 10 11 12]]\n",
            "[[ 1  2  7  4  5  6]\n",
            " [ 7  8  8 10 11 12]]\n"
          ]
        }
      ]
    },
    {
      "cell_type": "code",
      "source": [
        "# index/slice/3D\n",
        "a = np.array([[[1,2],[3,5],[7,8]],\n",
        "              [[1,7],[-3,2],[10,2]],\n",
        "              [[6,-2],[5,-3],[7,9]],\n",
        "              [[8,5],[-2,2],[26,-2]],\n",
        "              [[1,-7],[-3,2],[-5,-2]],])\n",
        "print(a)\n",
        "print(a.shape) \n",
        "print(a[3,2,0])\n",
        "print(a[:,1,:])"
      ],
      "metadata": {
        "colab": {
          "base_uri": "https://localhost:8080/"
        },
        "id": "ofPE_tmTA63Z",
        "outputId": "7858cc78-460b-4177-9797-c36b97acdb05"
      },
      "execution_count": 27,
      "outputs": [
        {
          "output_type": "stream",
          "name": "stdout",
          "text": [
            "[[[ 1  2]\n",
            "  [ 3  5]\n",
            "  [ 7  8]]\n",
            "\n",
            " [[ 1  7]\n",
            "  [-3  2]\n",
            "  [10  2]]\n",
            "\n",
            " [[ 6 -2]\n",
            "  [ 5 -3]\n",
            "  [ 7  9]]\n",
            "\n",
            " [[ 8  5]\n",
            "  [-2  2]\n",
            "  [26 -2]]\n",
            "\n",
            " [[ 1 -7]\n",
            "  [-3  2]\n",
            "  [-5 -2]]]\n",
            "(5, 3, 2)\n",
            "26\n",
            "[[ 3  5]\n",
            " [-3  2]\n",
            " [ 5 -3]\n",
            " [-2  2]\n",
            " [-3  2]]\n"
          ]
        }
      ]
    },
    {
      "cell_type": "code",
      "source": [
        "a = np.zeros((3,2), dtype=np.int32)\n",
        "print(a)"
      ],
      "metadata": {
        "colab": {
          "base_uri": "https://localhost:8080/"
        },
        "id": "PlB-2XFIEML4",
        "outputId": "d4e96ccf-5134-4043-a8fc-d293e7bc490f"
      },
      "execution_count": 28,
      "outputs": [
        {
          "output_type": "stream",
          "name": "stdout",
          "text": [
            "[[0 0]\n",
            " [0 0]\n",
            " [0 0]]\n"
          ]
        }
      ]
    },
    {
      "cell_type": "code",
      "source": [
        "x = np.random.rand(3,2)\n",
        "y = np.random.randint(low=10, high=100, size= (5,2))\n",
        "print(x)\n",
        "print(y)"
      ],
      "metadata": {
        "colab": {
          "base_uri": "https://localhost:8080/"
        },
        "id": "b2tGYb9REkYc",
        "outputId": "e5c407a6-60ad-4023-f46c-021ed6c06941"
      },
      "execution_count": 29,
      "outputs": [
        {
          "output_type": "stream",
          "name": "stdout",
          "text": [
            "[[0.63756372 0.02842353]\n",
            " [0.11096304 0.90263349]\n",
            " [0.58479495 0.28922861]]\n",
            "[[33 21]\n",
            " [47 91]\n",
            " [55 18]\n",
            " [73 72]\n",
            " [14 51]]\n"
          ]
        }
      ]
    },
    {
      "cell_type": "code",
      "source": [
        "a = np.array([[1,2,3],[4,5,6]])\n",
        "print(a + 2)\n",
        "print(a - 2)\n",
        "print(a * 2)\n",
        "print(a / 2)\n",
        "print(a ** 2)"
      ],
      "metadata": {
        "colab": {
          "base_uri": "https://localhost:8080/"
        },
        "id": "LpouR-SEE8wV",
        "outputId": "67807159-f1a4-4a19-a283-8a24e5700a58"
      },
      "execution_count": 30,
      "outputs": [
        {
          "output_type": "stream",
          "name": "stdout",
          "text": [
            "[[3 4 5]\n",
            " [6 7 8]]\n",
            "[[-1  0  1]\n",
            " [ 2  3  4]]\n",
            "[[ 2  4  6]\n",
            " [ 8 10 12]]\n",
            "[[0.5 1.  1.5]\n",
            " [2.  2.5 3. ]]\n",
            "[[ 1  4  9]\n",
            " [16 25 36]]\n"
          ]
        }
      ]
    },
    {
      "cell_type": "code",
      "source": [
        "a = [1,2,3]\n",
        "b = [4,5,6]\n",
        "c = []\n",
        "for i in range(len(a)):\n",
        "    c.append(a[i] + b[i])\n",
        "print(c)\n",
        "print(a+b)  # 相加是串列相加\n",
        "x = np.array([1,2,3])\n",
        "y = np.array([4,5,6])\n",
        "print(x+y) # 平行運算"
      ],
      "metadata": {
        "colab": {
          "base_uri": "https://localhost:8080/"
        },
        "id": "_othngXiFQf0",
        "outputId": "6dd24dfd-2027-480c-ae47-0347dd371e22"
      },
      "execution_count": 31,
      "outputs": [
        {
          "output_type": "stream",
          "name": "stdout",
          "text": [
            "[5, 7, 9]\n",
            "[1, 2, 3, 4, 5, 6]\n",
            "[5 7 9]\n"
          ]
        }
      ]
    },
    {
      "cell_type": "code",
      "source": [
        "a = np.array([[1,2],[3,4],[5,6]])\n",
        "b = np.array([[2,3,1],[5,2,1]])\n",
        "print(np.matmul(a,b))"
      ],
      "metadata": {
        "colab": {
          "base_uri": "https://localhost:8080/"
        },
        "id": "IlKdxHyNFpQj",
        "outputId": "a64d78c0-a21a-4095-a9d0-a5d64f42ff96"
      },
      "execution_count": 32,
      "outputs": [
        {
          "output_type": "stream",
          "name": "stdout",
          "text": [
            "[[12  7  3]\n",
            " [26 17  7]\n",
            " [40 27 11]]\n"
          ]
        }
      ]
    },
    {
      "cell_type": "code",
      "source": [
        "a = np.array([[1,2,3],[4,5,6],[7,8,9]])\n",
        "identity = np.identity(3)\n",
        "print(np.matmul(a,identity))"
      ],
      "metadata": {
        "colab": {
          "base_uri": "https://localhost:8080/"
        },
        "id": "n5rZ_lwSGLqR",
        "outputId": "ee2e6f45-7528-4c56-8ca4-01f177cddadd"
      },
      "execution_count": 33,
      "outputs": [
        {
          "output_type": "stream",
          "name": "stdout",
          "text": [
            "[[1. 2. 3.]\n",
            " [4. 5. 6.]\n",
            " [7. 8. 9.]]\n"
          ]
        }
      ]
    },
    {
      "cell_type": "code",
      "source": [
        "a = np.array([[92,83,56,77,98],[81,53,64,76,60]])\n",
        "print(np.max(a))"
      ],
      "metadata": {
        "colab": {
          "base_uri": "https://localhost:8080/"
        },
        "id": "hQPY6vlEGgKM",
        "outputId": "e140c515-3aec-4195-ac0d-51040e38b2de"
      },
      "execution_count": 34,
      "outputs": [
        {
          "output_type": "stream",
          "name": "stdout",
          "text": [
            "98\n"
          ]
        }
      ]
    },
    {
      "cell_type": "code",
      "source": [
        "print(np.max(a,axis=0))"
      ],
      "metadata": {
        "colab": {
          "base_uri": "https://localhost:8080/"
        },
        "id": "A4et3f1XHCpy",
        "outputId": "31de91d3-5c07-4af7-b77e-e33be112348b"
      },
      "execution_count": 35,
      "outputs": [
        {
          "output_type": "stream",
          "name": "stdout",
          "text": [
            "[92 83 64 77 98]\n"
          ]
        }
      ]
    },
    {
      "cell_type": "code",
      "source": [
        "print(np.max(a,axis=1))"
      ],
      "metadata": {
        "colab": {
          "base_uri": "https://localhost:8080/"
        },
        "id": "qSvx3WG6HPRe",
        "outputId": "9c5689d8-c866-4776-d1b7-5075ab784d78"
      },
      "execution_count": 36,
      "outputs": [
        {
          "output_type": "stream",
          "name": "stdout",
          "text": [
            "[98 81]\n"
          ]
        }
      ]
    },
    {
      "cell_type": "code",
      "source": [
        "print(np.sum(a, axis=0))"
      ],
      "metadata": {
        "colab": {
          "base_uri": "https://localhost:8080/"
        },
        "id": "i5__y9pAHRkv",
        "outputId": "c6f63b98-9dcc-4ccf-ecb1-abb1ec8c0c84"
      },
      "execution_count": 37,
      "outputs": [
        {
          "output_type": "stream",
          "name": "stdout",
          "text": [
            "[173 136 120 153 158]\n"
          ]
        }
      ]
    },
    {
      "cell_type": "code",
      "source": [
        "print(np.sum(a, axis=1))"
      ],
      "metadata": {
        "colab": {
          "base_uri": "https://localhost:8080/"
        },
        "id": "VwID0hzXH8ht",
        "outputId": "8092eaab-a1f3-4537-8423-255c2a06aeee"
      },
      "execution_count": 38,
      "outputs": [
        {
          "output_type": "stream",
          "name": "stdout",
          "text": [
            "[406 334]\n"
          ]
        }
      ]
    }
  ]
}