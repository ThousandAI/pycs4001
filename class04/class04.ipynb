{
  "nbformat": 4,
  "nbformat_minor": 0,
  "metadata": {
    "colab": {
      "name": "class04.ipynb",
      "provenance": [],
      "collapsed_sections": [],
      "authorship_tag": "ABX9TyOQ2fmmnPek7EKtGzkh7SZT",
      "include_colab_link": true
    },
    "kernelspec": {
      "name": "python3",
      "display_name": "Python 3"
    },
    "language_info": {
      "name": "python"
    }
  },
  "cells": [
    {
      "cell_type": "markdown",
      "metadata": {
        "id": "view-in-github",
        "colab_type": "text"
      },
      "source": [
        "<a href=\"https://colab.research.google.com/github/ThousandAI/pycs4001/blob/main/class04/class04.ipynb\" target=\"_parent\"><img src=\"https://colab.research.google.com/assets/colab-badge.svg\" alt=\"Open In Colab\"/></a>"
      ]
    },
    {
      "cell_type": "markdown",
      "source": [
        "# **函式**\n"
      ],
      "metadata": {
        "id": "UDHz5BHbNNlQ"
      }
    },
    {
      "cell_type": "code",
      "source": [
        "def get_sum(course,*args):\n",
        "    scores = sum(args)\n",
        "    print(f\"{course} 總分為: {scores}\")\n",
        "get_sum(\"Math\",30,20,60,80,100,90,70,98)"
      ],
      "metadata": {
        "colab": {
          "base_uri": "https://localhost:8080/"
        },
        "id": "et9rQiycNR8b",
        "outputId": "ba6b6a4d-2e64-4567-da7e-35a79451bbf1"
      },
      "execution_count": 1,
      "outputs": [
        {
          "output_type": "stream",
          "name": "stdout",
          "text": [
            "Math 總分為: 548\n"
          ]
        }
      ]
    },
    {
      "cell_type": "code",
      "source": [
        "def get_sports(sports, **kwargs):\n",
        "    print(sports)\n",
        "    print(kwargs)\n",
        "    for k,v in kwargs.items():\n",
        "        print(f\"{k}: {v}\")\n",
        "get_sports( \"basketball\",curry=[15,10,5,10], thompson= [20,10,10,5] )"
      ],
      "metadata": {
        "colab": {
          "base_uri": "https://localhost:8080/"
        },
        "id": "JYNw1FKbNVq_",
        "outputId": "8cc53a25-7fd8-4366-f5db-2e3e409745fc"
      },
      "execution_count": 2,
      "outputs": [
        {
          "output_type": "stream",
          "name": "stdout",
          "text": [
            "basketball\n",
            "{'curry': [15, 10, 5, 10], 'thompson': [20, 10, 10, 5]}\n",
            "curry: [15, 10, 5, 10]\n",
            "thompson: [20, 10, 10, 5]\n"
          ]
        }
      ]
    },
    {
      "cell_type": "markdown",
      "source": [
        "# **字典**"
      ],
      "metadata": {
        "id": "TFfj8q-hNeUG"
      }
    },
    {
      "cell_type": "code",
      "source": [
        "# dictionary\n",
        "dic = {\"sports\":[\"basketball\", \"football\"], \"name\": [\"Allie\", \"Thousand\"]}\n",
        "print(dic[\"sports\"])\n",
        "print(dic[\"sports\"][0])\n",
        "# 新增 key\n",
        "dic[\"scores\"] = [70, 80, 90, 100] # 跟 list 新增方式不一樣，更為簡單\n",
        "dic[\"hobby\"] = \"Reading\" # value 也可以只有一個人\n",
        "print(dic)"
      ],
      "metadata": {
        "colab": {
          "base_uri": "https://localhost:8080/"
        },
        "id": "Xu50kqa8NhHg",
        "outputId": "20482f4b-e8c7-43dc-8b1a-a778ef7384c7"
      },
      "execution_count": 3,
      "outputs": [
        {
          "output_type": "stream",
          "name": "stdout",
          "text": [
            "['basketball', 'football']\n",
            "basketball\n",
            "{'sports': ['basketball', 'football'], 'name': ['Allie', 'Thousand'], 'scores': [70, 80, 90, 100], 'hobby': 'Reading'}\n"
          ]
        }
      ]
    },
    {
      "cell_type": "code",
      "source": [
        "# 迴圈 + 字典\n",
        "for key in dic.keys():\n",
        "    print(f\"key is: {key}\")"
      ],
      "metadata": {
        "colab": {
          "base_uri": "https://localhost:8080/"
        },
        "id": "WtTF5oP2NkRV",
        "outputId": "133bf126-fd75-470c-c793-9c351dcc9255"
      },
      "execution_count": 4,
      "outputs": [
        {
          "output_type": "stream",
          "name": "stdout",
          "text": [
            "key is: sports\n",
            "key is: name\n",
            "key is: scores\n",
            "key is: hobby\n"
          ]
        }
      ]
    },
    {
      "cell_type": "code",
      "source": [
        "for value in dic.values():\n",
        "    print(f\"value is: {value}\")"
      ],
      "metadata": {
        "colab": {
          "base_uri": "https://localhost:8080/"
        },
        "id": "a6kWxEFuNngX",
        "outputId": "f9837c97-847f-4948-f7cd-61b41f641849"
      },
      "execution_count": 5,
      "outputs": [
        {
          "output_type": "stream",
          "name": "stdout",
          "text": [
            "value is: ['basketball', 'football']\n",
            "value is: ['Allie', 'Thousand']\n",
            "value is: [70, 80, 90, 100]\n",
            "value is: Reading\n"
          ]
        }
      ]
    },
    {
      "cell_type": "code",
      "source": [
        "for key, value in dic.items():\n",
        "    print(f\"key is: {key}, and value is: {value}\")"
      ],
      "metadata": {
        "colab": {
          "base_uri": "https://localhost:8080/"
        },
        "id": "ldc0Cr4fNpK4",
        "outputId": "ad013517-2289-4e89-a7f5-108d57946473"
      },
      "execution_count": 6,
      "outputs": [
        {
          "output_type": "stream",
          "name": "stdout",
          "text": [
            "key is: sports, and value is: ['basketball', 'football']\n",
            "key is: name, and value is: ['Allie', 'Thousand']\n",
            "key is: scores, and value is: [70, 80, 90, 100]\n",
            "key is: hobby, and value is: Reading\n"
          ]
        }
      ]
    },
    {
      "cell_type": "code",
      "source": [
        "n = int(input())\n",
        "dic = {}\n",
        "for i in range(n):\n",
        "    tem = input().split()\n",
        "    if tem[0] not in dic:\n",
        "        dic[tem[0]] = [int(tem[1])]\n",
        "    else:\n",
        "        dic[tem[0]] += [int(tem[1])]\n",
        "print(dic)"
      ],
      "metadata": {
        "colab": {
          "base_uri": "https://localhost:8080/"
        },
        "id": "7twHSjlbNuxO",
        "outputId": "882d529d-6369-4c5b-c0a7-091b38aae2a9"
      },
      "execution_count": 7,
      "outputs": [
        {
          "output_type": "stream",
          "name": "stdout",
          "text": [
            "7\n",
            "Harry 37\n",
            "Json 25\n",
            "Json 36\n",
            "Harry 38\n",
            "Tom 50\n",
            "Harry 36\n",
            "Tom 20\n",
            "{'Harry': [37, 38, 36], 'Json': [25, 36], 'Tom': [50, 20]}\n"
          ]
        }
      ]
    },
    {
      "cell_type": "code",
      "source": [
        "# sorted + 字典 (解答)\n",
        "dic = {\"Harry\":32,\"Berry\":31,\"Thousand\":21,\"Becky\":50,\"Allie\":37}\n",
        "sorted_tuple = sorted(dic.items(), key=lambda item: item[1])\n",
        "sorted_dic = {key: value for key, value in sorted_tuple}\n",
        "print(sorted_dic)"
      ],
      "metadata": {
        "colab": {
          "base_uri": "https://localhost:8080/"
        },
        "id": "8CvNkARbN9qF",
        "outputId": "3006f5bc-3dfd-4802-bd72-1a33a5a6289e"
      },
      "execution_count": 8,
      "outputs": [
        {
          "output_type": "stream",
          "name": "stdout",
          "text": [
            "{'Thousand': 21, 'Berry': 31, 'Harry': 32, 'Allie': 37, 'Becky': 50}\n"
          ]
        }
      ]
    },
    {
      "cell_type": "markdown",
      "source": [
        "# 物件導向 (Object Oriented Programming)"
      ],
      "metadata": {
        "id": "-YVt-OEffpI5"
      }
    },
    {
      "cell_type": "code",
      "source": [
        "class Person:\n",
        "  # 建構子 constructor\n",
        "  def __init__(self, name, gender):\n",
        "    self.n = name\n",
        "    self.g = gender\n",
        "    print(\"This is Person Class\")\n",
        "  \n",
        "  # instance method\n",
        "  def introduction(self):\n",
        "    print(f\"Hello my name is {self.n}\")"
      ],
      "metadata": {
        "id": "_O4yN_LNfuBe"
      },
      "execution_count": null,
      "outputs": []
    },
    {
      "cell_type": "code",
      "source": [
        "# 物件化 (實體化) instance\n",
        "p1 = Person(name=\"Thousand\", gender=\"Male\")\n",
        "p2 = Person(name=\"Allie\", gender=\"Female\")"
      ],
      "metadata": {
        "colab": {
          "base_uri": "https://localhost:8080/"
        },
        "id": "OVAmVArzhKQY",
        "outputId": "61b989b3-f6e8-4cc6-fe04-d90bbc329bfb"
      },
      "execution_count": null,
      "outputs": [
        {
          "output_type": "stream",
          "name": "stdout",
          "text": [
            "This is Person Class\n",
            "This is Person Class\n"
          ]
        }
      ]
    },
    {
      "cell_type": "code",
      "source": [
        "print(p1.n, p1.g)\n",
        "print(p2.n, p2.g)"
      ],
      "metadata": {
        "colab": {
          "base_uri": "https://localhost:8080/"
        },
        "id": "UaVqEuWPiZGd",
        "outputId": "17b0b03d-8543-4d67-ad14-2646d907be86"
      },
      "execution_count": null,
      "outputs": [
        {
          "output_type": "stream",
          "name": "stdout",
          "text": [
            "Thousand Male\n",
            "Allie Female\n"
          ]
        }
      ]
    },
    {
      "cell_type": "code",
      "source": [
        "p1.introduction()"
      ],
      "metadata": {
        "colab": {
          "base_uri": "https://localhost:8080/"
        },
        "id": "KXR3PmY7ibJb",
        "outputId": "48fc523d-12e6-499a-8d08-89d2d8b88f39"
      },
      "execution_count": null,
      "outputs": [
        {
          "output_type": "stream",
          "name": "stdout",
          "text": [
            "Hello my name is Thousand\n"
          ]
        }
      ]
    },
    {
      "cell_type": "code",
      "source": [
        "p2.introduction()"
      ],
      "metadata": {
        "colab": {
          "base_uri": "https://localhost:8080/"
        },
        "id": "vnr9E5RMkmCx",
        "outputId": "cdf2d069-3e62-4adb-e33b-7b99c5c65087"
      },
      "execution_count": null,
      "outputs": [
        {
          "output_type": "stream",
          "name": "stdout",
          "text": [
            "Hello my name is Allie\n"
          ]
        }
      ]
    },
    {
      "cell_type": "code",
      "source": [
        ""
      ],
      "metadata": {
        "id": "fwulCho8zAfH"
      },
      "execution_count": null,
      "outputs": []
    },
    {
      "cell_type": "markdown",
      "source": [
        "# **繼承 (Inheritance)**"
      ],
      "metadata": {
        "id": "fsKArbPZzBCA"
      }
    },
    {
      "cell_type": "code",
      "source": [
        "class Character:\n",
        "  def __init__(self, name, gender, weapon=\"bat\"):\n",
        "    self.lv = 1\n",
        "    self.exp = 0\n",
        "    self.n = name\n",
        "    self.g = gender\n",
        "    self.w = weapon\n",
        "    print(\"This is Character class.\")\n",
        "\n",
        "  def __str__(self):\n",
        "      return f\"Name: {self.n}, Gender: {self.g}, Weapon: {self.w}, Level: {self.lv}, Exp: {self.exp}\"\n",
        "\n",
        "  def attack(self, enemy):\n",
        "    self.exp += 40\n",
        "    enemy.hp -= 1\n",
        "    self.level_up()\n",
        "    print(f\"{self.n} attacked! Level: {self.lv}, Exp: {self.exp}\")\n",
        "  \n",
        "  def level_up(self):\n",
        "    if self.exp >= 100:\n",
        "        self.lv += 1\n",
        "        self.exp -= 100\n",
        "        print(f\"{self.n} Level up!!!\")"
      ],
      "metadata": {
        "id": "OK2lQCiGzH3w"
      },
      "execution_count": null,
      "outputs": []
    },
    {
      "cell_type": "code",
      "source": [
        "class Enemy:\n",
        "  def __init__(self):\n",
        "    self.name = \"Monster\"\n",
        "    self.hp = 100"
      ],
      "metadata": {
        "id": "sFgRv2Y-2Vqs"
      },
      "execution_count": null,
      "outputs": []
    },
    {
      "cell_type": "code",
      "source": [
        "class Warrior(Character):\n",
        "  def __init__(self, name, gender, weapon=\"bat\"):\n",
        "    super().__init__(name, gender, weapon)\n",
        "    self.sp = 100\n",
        "    print(\"This is Warrior Class.\")\n",
        "\n",
        "  def attack(self,enemy):\n",
        "    super().attack(enemy)\n",
        "    print(\"w1\")"
      ],
      "metadata": {
        "id": "g9PHUUIbzfRq"
      },
      "execution_count": null,
      "outputs": []
    },
    {
      "cell_type": "code",
      "source": [
        "class Magician(Character):\n",
        "  def __init__(self, name, gender, weapon=\"bat\"):\n",
        "    super().__init__(name, gender, weapon)\n",
        "    self.mp = 100\n",
        "    print(\"This is Magician Class.\")"
      ],
      "metadata": {
        "id": "QI8O8jiT12HL"
      },
      "execution_count": null,
      "outputs": []
    },
    {
      "cell_type": "code",
      "source": [
        "w1 = Warrior(name=\"Thousand\", gender=\"Male\", weapon=\"Sword\")"
      ],
      "metadata": {
        "colab": {
          "base_uri": "https://localhost:8080/"
        },
        "id": "1yfHRAqBzfVS",
        "outputId": "08e78109-79db-462c-f085-2959809f8e93"
      },
      "execution_count": null,
      "outputs": [
        {
          "output_type": "stream",
          "name": "stdout",
          "text": [
            "This is Character class.\n",
            "This is Warrior Class.\n"
          ]
        }
      ]
    },
    {
      "cell_type": "code",
      "source": [
        "print(w1)"
      ],
      "metadata": {
        "colab": {
          "base_uri": "https://localhost:8080/"
        },
        "id": "wwfvMmyjzfXZ",
        "outputId": "2b95abb4-80cb-47eb-cc34-c794e6b23a26"
      },
      "execution_count": null,
      "outputs": [
        {
          "output_type": "stream",
          "name": "stdout",
          "text": [
            "Name: Thousand, Gender: Male, Weapon: Sword, Level: 1, Exp: 0\n"
          ]
        }
      ]
    },
    {
      "cell_type": "code",
      "source": [
        "e = Enemy()"
      ],
      "metadata": {
        "id": "1ThL-9bx2Soc"
      },
      "execution_count": null,
      "outputs": []
    },
    {
      "cell_type": "code",
      "source": [
        "for i in range(10):\n",
        "  w1.attack(enemy=e)"
      ],
      "metadata": {
        "colab": {
          "base_uri": "https://localhost:8080/"
        },
        "id": "GdmrOo4s2Sqf",
        "outputId": "d7e0e10c-5fe0-40c5-bfbd-e2f5ce47b799"
      },
      "execution_count": null,
      "outputs": [
        {
          "output_type": "stream",
          "name": "stdout",
          "text": [
            "Thousand attacked! Level: 1, Exp: 40\n",
            "w1\n",
            "Thousand attacked! Level: 1, Exp: 80\n",
            "w1\n",
            "Thousand Level up!!!\n",
            "Thousand attacked! Level: 2, Exp: 20\n",
            "w1\n",
            "Thousand attacked! Level: 2, Exp: 60\n",
            "w1\n",
            "Thousand Level up!!!\n",
            "Thousand attacked! Level: 3, Exp: 0\n",
            "w1\n",
            "Thousand attacked! Level: 3, Exp: 40\n",
            "w1\n",
            "Thousand attacked! Level: 3, Exp: 80\n",
            "w1\n",
            "Thousand Level up!!!\n",
            "Thousand attacked! Level: 4, Exp: 20\n",
            "w1\n",
            "Thousand attacked! Level: 4, Exp: 60\n",
            "w1\n",
            "Thousand Level up!!!\n",
            "Thousand attacked! Level: 5, Exp: 0\n",
            "w1\n"
          ]
        }
      ]
    },
    {
      "cell_type": "code",
      "source": [
        ""
      ],
      "metadata": {
        "id": "7vVZWbA82Suq"
      },
      "execution_count": null,
      "outputs": []
    },
    {
      "cell_type": "code",
      "source": [
        "# class Warrior(Character):\n",
        "#     def __init__(self, name, gender, weapon=\"bat\"):\n",
        "#         self.lv = 1\n",
        "#         self.exp = 0\n",
        "#         self.n = name\n",
        "#         self.g = gender\n",
        "#         self.w = weapon\n",
        "#         self.sp = 100\n",
        "#         print(\"This is Warrior class.\")\n",
        "\n",
        "#     def __str__(self):\n",
        "#       return f\"Name: {self.n}, Gender: {self.g}, Weapon: {self.w}, Level: {self.lv}, Exp: {self.exp}\"\n",
        "\n",
        "#     def attack(self, enemy):\n",
        "#       self.exp += 40\n",
        "#       enemy.hp -= 1\n",
        "#       self.level_up()\n",
        "#       print(f\"{self.n} attacked! Level: {self.lv}, Exp: {self.exp}\")\n",
        "    \n",
        "#     def level_up(self):\n",
        "#       if self.exp >= 100:\n",
        "#           self.lv += 1\n",
        "#           self.exp -= 100\n",
        "#           print(f\"{self.n} Level up!!!\")"
      ],
      "metadata": {
        "id": "FXMHKoO7knUx"
      },
      "execution_count": null,
      "outputs": []
    },
    {
      "cell_type": "code",
      "source": [
        "class Magician:\n",
        "    def __init__(self, name, gender, weapon=\"bat\"):\n",
        "        self.lv = 1\n",
        "        self.exp = 0\n",
        "        self.n = name\n",
        "        self.g = gender\n",
        "        self.w = weapon\n",
        "        self.mp = 100\n",
        "\n",
        "    def __str__(self):\n",
        "      return f\"Name: {self.n}, Gender: {self.g}, Weapon: {self.w}, Level: {self.lv}, Exp: {self.exp}\"\n",
        "\n",
        "    def attack(self, enemy):\n",
        "      self.exp += 40\n",
        "      enemy.hp -= 1\n",
        "      self.level_up()\n",
        "      print(f\"{self.n} attacked! Level: {self.lv}, Exp: {self.exp}\")\n",
        "    \n",
        "    def level_up(self):\n",
        "      if self.exp >= 100:\n",
        "          self.lv += 1\n",
        "          self.exp -= 100\n",
        "          print(f\"{self.n} Level up!!!\")"
      ],
      "metadata": {
        "id": "H-6N914Pyl7Z"
      },
      "execution_count": null,
      "outputs": []
    },
    {
      "cell_type": "code",
      "source": [
        "class Enemy:\n",
        "  def __init__(self):\n",
        "    self.name = \"Monster\"\n",
        "    self.hp = 100"
      ],
      "metadata": {
        "id": "iHrrGwiawfi_"
      },
      "execution_count": null,
      "outputs": []
    },
    {
      "cell_type": "code",
      "source": [
        "warrior1 = Warrior(name = \"Thousand\", gender = \"Male\", weapon = \"Sword\")\n",
        "warrior2 = Warrior(name = \"Allie\", gender = \"Female\", weapon = \"Longbow\")"
      ],
      "metadata": {
        "colab": {
          "base_uri": "https://localhost:8080/"
        },
        "id": "dRdnkqMnpFwm",
        "outputId": "b8f5c1ee-bb51-4fda-e2db-d4327f290305"
      },
      "execution_count": null,
      "outputs": [
        {
          "output_type": "stream",
          "name": "stdout",
          "text": [
            "This is Warrior class.\n",
            "This is Warrior class.\n"
          ]
        }
      ]
    },
    {
      "cell_type": "code",
      "source": [
        "e = Enemy()"
      ],
      "metadata": {
        "id": "2dqxTylBwuqs"
      },
      "execution_count": null,
      "outputs": []
    },
    {
      "cell_type": "code",
      "source": [
        "print(f\"Warrior: {warrior1}\")"
      ],
      "metadata": {
        "colab": {
          "base_uri": "https://localhost:8080/"
        },
        "id": "J6YKcqespGeY",
        "outputId": "c7d17c94-64ec-4b33-baa4-2d757987b7a3"
      },
      "execution_count": null,
      "outputs": [
        {
          "output_type": "stream",
          "name": "stdout",
          "text": [
            "Warrior: Name: Thousand, Gender: Male, Weapon: Sword, Level: 1, Exp: 0\n"
          ]
        }
      ]
    },
    {
      "cell_type": "code",
      "source": [
        "for i in range(5):\n",
        "  warrior1.attack(enemy = e)"
      ],
      "metadata": {
        "colab": {
          "base_uri": "https://localhost:8080/"
        },
        "id": "MyigSEJ7pRL9",
        "outputId": "ea19f61b-2d09-44a8-9c0f-0ef19cd52268"
      },
      "execution_count": null,
      "outputs": [
        {
          "output_type": "stream",
          "name": "stdout",
          "text": [
            "Thousand attacked! Level: 1, Exp: 40\n",
            "Thousand attacked! Level: 1, Exp: 80\n",
            "Thousand Level up!!!\n",
            "Thousand attacked! Level: 2, Exp: 20\n",
            "Thousand attacked! Level: 2, Exp: 60\n",
            "Thousand Level up!!!\n",
            "Thousand attacked! Level: 3, Exp: 0\n"
          ]
        }
      ]
    },
    {
      "cell_type": "code",
      "source": [
        "e.hp"
      ],
      "metadata": {
        "colab": {
          "base_uri": "https://localhost:8080/"
        },
        "id": "i5MM5qVzrkLs",
        "outputId": "f1569af5-0916-40dd-df70-6a112b50ab84"
      },
      "execution_count": null,
      "outputs": [
        {
          "output_type": "execute_result",
          "data": {
            "text/plain": [
              "95"
            ]
          },
          "metadata": {},
          "execution_count": 7
        }
      ]
    },
    {
      "cell_type": "markdown",
      "source": [
        "# **Numpy**"
      ],
      "metadata": {
        "id": "8Qb3EMym-isr"
      }
    },
    {
      "cell_type": "code",
      "source": [
        "import numpy as np"
      ],
      "metadata": {
        "id": "bmzpn1lb-krS"
      },
      "execution_count": null,
      "outputs": []
    },
    {
      "cell_type": "code",
      "source": [
        "a = np.array([1,2,3])\n",
        "b = np.array([[1.0,2.0,3.0],[3.2,5.7,8.2]])\n",
        "print(f\"a: {a}\")\n",
        "print(f\"a dimension: {a.ndim}\")\n",
        "print(f\"a shape: {a.shape}\")\n",
        "print(f\"a type: {a.dtype}\")\n",
        "print(f\"b: {b}\")\n",
        "print(f\"b dimension: {b.ndim}\")\n",
        "print(f\"b shape: {b.shape}\")\n",
        "print(f\"b type: {b.dtype}\")"
      ],
      "metadata": {
        "colab": {
          "base_uri": "https://localhost:8080/"
        },
        "id": "264igi9B-2Q6",
        "outputId": "388f08c0-8208-4a6e-bb65-e16decc3feb2"
      },
      "execution_count": null,
      "outputs": [
        {
          "output_type": "stream",
          "name": "stdout",
          "text": [
            "a: [1 2 3]\n",
            "a dimension: 1\n",
            "a shape: (3,)\n",
            "a type: int64\n",
            "b: [[1.  2.  3. ]\n",
            " [3.2 5.7 8.2]]\n",
            "b dimension: 2\n",
            "b shape: (2, 3)\n",
            "b type: float64\n"
          ]
        }
      ]
    },
    {
      "cell_type": "code",
      "source": [
        "a = np.array([[1,2,3,4,5,6],[7,8,9,10,11,12]])\n",
        "a"
      ],
      "metadata": {
        "colab": {
          "base_uri": "https://localhost:8080/"
        },
        "id": "6hhuklGMBLNA",
        "outputId": "76bc58f8-808e-4c0d-b799-dba7059afc48"
      },
      "execution_count": null,
      "outputs": [
        {
          "output_type": "execute_result",
          "data": {
            "text/plain": [
              "array([[ 1,  2,  3,  4,  5,  6],\n",
              "       [ 7,  8,  9, 10, 11, 12]])"
            ]
          },
          "metadata": {},
          "execution_count": 5
        }
      ]
    },
    {
      "cell_type": "code",
      "source": [
        "# index/slice/2D\n",
        "a = np.array([[1,2,3,4,5,6],[7,8,9,10,11,12]])\n",
        "print(a[1,2]) # 9\n",
        "print(a[0,:]) # [1,2,3,4,5,6]\n",
        "print(a[:,2]) # [3,8]\n",
        "print(a[0,1:5:2]) # [2,4] (start,stop,step)\n",
        "a[1,2] = 20\n",
        "print(a)\n",
        "a[:,2] = [7,8]\n",
        "print(a)"
      ],
      "metadata": {
        "colab": {
          "base_uri": "https://localhost:8080/"
        },
        "id": "QLCCvu_6_nho",
        "outputId": "531c1ed8-353c-47e9-f731-f52e064749d4"
      },
      "execution_count": null,
      "outputs": [
        {
          "output_type": "stream",
          "name": "stdout",
          "text": [
            "9\n",
            "[1 2 3 4 5 6]\n",
            "[3 9]\n",
            "[2 4]\n",
            "[[ 1  2  3  4  5  6]\n",
            " [ 7  8 20 10 11 12]]\n",
            "[[ 1  2  7  4  5  6]\n",
            " [ 7  8  8 10 11 12]]\n"
          ]
        }
      ]
    },
    {
      "cell_type": "code",
      "source": [
        "# index/slice/3D\n",
        "a = np.array([[[1,2],[3,5],[7,8]],\n",
        "              [[1,7],[-3,2],[10,2]],\n",
        "              [[6,-2],[5,-3],[7,9]],\n",
        "              [[8,5],[-2,2],[26,-2]],\n",
        "              [[1,-7],[-3,2],[-5,-2]],])\n",
        "print(a)\n",
        "print(a.shape) \n",
        "print(a[3,2,0])\n",
        "print(a[:,1,:])"
      ],
      "metadata": {
        "colab": {
          "base_uri": "https://localhost:8080/"
        },
        "id": "ofPE_tmTA63Z",
        "outputId": "d25094fb-6818-4427-f1fe-d9d6ac2daec1"
      },
      "execution_count": null,
      "outputs": [
        {
          "output_type": "stream",
          "name": "stdout",
          "text": [
            "[[[ 1  2]\n",
            "  [ 3  5]\n",
            "  [ 7  8]]\n",
            "\n",
            " [[ 1  7]\n",
            "  [-3  2]\n",
            "  [10  2]]\n",
            "\n",
            " [[ 6 -2]\n",
            "  [ 5 -3]\n",
            "  [ 7  9]]\n",
            "\n",
            " [[ 8  5]\n",
            "  [-2  2]\n",
            "  [26 -2]]\n",
            "\n",
            " [[ 1 -7]\n",
            "  [-3  2]\n",
            "  [-5 -2]]]\n",
            "(5, 3, 2)\n",
            "26\n",
            "[[ 3  5]\n",
            " [-3  2]\n",
            " [ 5 -3]\n",
            " [-2  2]\n",
            " [-3  2]]\n"
          ]
        }
      ]
    },
    {
      "cell_type": "code",
      "source": [
        "a = np.zeros((3,2), dtype=np.int32)\n",
        "print(a)"
      ],
      "metadata": {
        "colab": {
          "base_uri": "https://localhost:8080/"
        },
        "id": "PlB-2XFIEML4",
        "outputId": "be101dae-d544-47b8-ecf3-66cba2f89975"
      },
      "execution_count": null,
      "outputs": [
        {
          "output_type": "stream",
          "name": "stdout",
          "text": [
            "[[0 0]\n",
            " [0 0]\n",
            " [0 0]]\n"
          ]
        }
      ]
    },
    {
      "cell_type": "code",
      "source": [
        "x = np.random.rand(3,2)\n",
        "y = np.random.randint(low=10, high=100, size= (5,2))\n",
        "print(x)\n",
        "print(y)"
      ],
      "metadata": {
        "colab": {
          "base_uri": "https://localhost:8080/"
        },
        "id": "b2tGYb9REkYc",
        "outputId": "ac815ec0-3a2a-4490-ed05-c1417d4a06fa"
      },
      "execution_count": null,
      "outputs": [
        {
          "output_type": "stream",
          "name": "stdout",
          "text": [
            "[[0.06131423 0.19529071]\n",
            " [0.13354202 0.42739974]\n",
            " [0.61545439 0.36585379]]\n",
            "[[49 83]\n",
            " [18 39]\n",
            " [54 58]\n",
            " [83 21]\n",
            " [86 72]]\n"
          ]
        }
      ]
    },
    {
      "cell_type": "code",
      "source": [
        "a = np.array([[1,2,3],[4,5,6]])\n",
        "print(a + 2)\n",
        "print(a - 2)\n",
        "print(a * 2)\n",
        "print(a / 2)\n",
        "print(a ** 2)"
      ],
      "metadata": {
        "colab": {
          "base_uri": "https://localhost:8080/"
        },
        "id": "LpouR-SEE8wV",
        "outputId": "6c708e5a-12fa-4a75-ce41-dc0af6165638"
      },
      "execution_count": null,
      "outputs": [
        {
          "output_type": "stream",
          "name": "stdout",
          "text": [
            "[[3 4 5]\n",
            " [6 7 8]]\n",
            "[[-1  0  1]\n",
            " [ 2  3  4]]\n",
            "[[ 2  4  6]\n",
            " [ 8 10 12]]\n",
            "[[0.5 1.  1.5]\n",
            " [2.  2.5 3. ]]\n",
            "[[ 1  4  9]\n",
            " [16 25 36]]\n"
          ]
        }
      ]
    },
    {
      "cell_type": "code",
      "source": [
        "a = [1,2,3]\n",
        "b = [4,5,6]\n",
        "c = []\n",
        "for i in range(len(a)):\n",
        "    c.append(a[i] + b[i])\n",
        "print(c)\n",
        "print(a+b)  # 相加是串列相加\n",
        "x = np.array([1,2,3])\n",
        "y = np.array([4,5,6])\n",
        "print(x+y) # 平行運算"
      ],
      "metadata": {
        "colab": {
          "base_uri": "https://localhost:8080/"
        },
        "id": "_othngXiFQf0",
        "outputId": "4c947cbb-5d64-4050-ef17-60eed0eab196"
      },
      "execution_count": null,
      "outputs": [
        {
          "output_type": "stream",
          "name": "stdout",
          "text": [
            "[5, 7, 9]\n",
            "[1, 2, 3, 4, 5, 6]\n",
            "[5 7 9]\n"
          ]
        }
      ]
    },
    {
      "cell_type": "code",
      "source": [
        "a = np.array([[1,2],[3,4],[5,6]])\n",
        "b = np.array([[2,3,1],[5,2,1]])\n",
        "print(np.matmul(a,b))"
      ],
      "metadata": {
        "colab": {
          "base_uri": "https://localhost:8080/"
        },
        "id": "IlKdxHyNFpQj",
        "outputId": "acd7140d-e7ef-4ffe-9a11-3cac55b23d71"
      },
      "execution_count": null,
      "outputs": [
        {
          "output_type": "stream",
          "name": "stdout",
          "text": [
            "[[12  7  3]\n",
            " [26 17  7]\n",
            " [40 27 11]]\n"
          ]
        }
      ]
    },
    {
      "cell_type": "code",
      "source": [
        "a = np.array([[1,2,3],[4,5,6],[7,8,9]])\n",
        "identity = np.identity(3)\n",
        "print(np.matmul(a,identity))"
      ],
      "metadata": {
        "colab": {
          "base_uri": "https://localhost:8080/"
        },
        "id": "n5rZ_lwSGLqR",
        "outputId": "7c015375-7a5e-4c76-cf18-10a0cbcef6c1"
      },
      "execution_count": null,
      "outputs": [
        {
          "output_type": "stream",
          "name": "stdout",
          "text": [
            "[[1. 2. 3.]\n",
            " [4. 5. 6.]\n",
            " [7. 8. 9.]]\n"
          ]
        }
      ]
    },
    {
      "cell_type": "code",
      "source": [
        "a = np.array([[92,83,56,77,98],[81,53,64,76,60]])\n",
        "print(np.max(a))"
      ],
      "metadata": {
        "colab": {
          "base_uri": "https://localhost:8080/"
        },
        "id": "hQPY6vlEGgKM",
        "outputId": "3f7c202a-442d-487e-f4ec-a0603a3114be"
      },
      "execution_count": null,
      "outputs": [
        {
          "output_type": "stream",
          "name": "stdout",
          "text": [
            "98\n"
          ]
        }
      ]
    },
    {
      "cell_type": "code",
      "source": [
        "print(np.max(a,axis=0))"
      ],
      "metadata": {
        "colab": {
          "base_uri": "https://localhost:8080/"
        },
        "id": "A4et3f1XHCpy",
        "outputId": "efdbbe32-7455-4e8f-f4bb-b799c7d9ec3c"
      },
      "execution_count": null,
      "outputs": [
        {
          "output_type": "stream",
          "name": "stdout",
          "text": [
            "[92 83 64 77 98]\n"
          ]
        }
      ]
    },
    {
      "cell_type": "code",
      "source": [
        "print(np.max(a,axis=1))"
      ],
      "metadata": {
        "colab": {
          "base_uri": "https://localhost:8080/"
        },
        "id": "qSvx3WG6HPRe",
        "outputId": "6625c10b-3cd4-488d-a766-79029bf86d3e"
      },
      "execution_count": null,
      "outputs": [
        {
          "output_type": "stream",
          "name": "stdout",
          "text": [
            "[98 81]\n"
          ]
        }
      ]
    },
    {
      "cell_type": "code",
      "source": [
        "print(np.sum(a, axis=0))"
      ],
      "metadata": {
        "colab": {
          "base_uri": "https://localhost:8080/"
        },
        "id": "i5__y9pAHRkv",
        "outputId": "689be744-5de1-422d-949a-28e55c6296b3"
      },
      "execution_count": null,
      "outputs": [
        {
          "output_type": "stream",
          "name": "stdout",
          "text": [
            "[173 136 120 153 158]\n"
          ]
        }
      ]
    },
    {
      "cell_type": "code",
      "source": [
        "print(np.sum(a, axis=1))"
      ],
      "metadata": {
        "colab": {
          "base_uri": "https://localhost:8080/"
        },
        "id": "VwID0hzXH8ht",
        "outputId": "391faf9d-714c-4e08-cf13-818f9d0f315a"
      },
      "execution_count": null,
      "outputs": [
        {
          "output_type": "stream",
          "name": "stdout",
          "text": [
            "[406 334]\n"
          ]
        }
      ]
    }
  ]
}