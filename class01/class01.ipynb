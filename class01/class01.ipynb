{
  "nbformat": 4,
  "nbformat_minor": 0,
  "metadata": {
    "colab": {
      "name": "class01.ipynb",
      "provenance": [],
      "authorship_tag": "ABX9TyP/jagOGwMr+6vZiSYIViYI",
      "include_colab_link": true
    },
    "kernelspec": {
      "name": "python3",
      "display_name": "Python 3"
    },
    "language_info": {
      "name": "python"
    }
  },
  "cells": [
    {
      "cell_type": "markdown",
      "metadata": {
        "id": "view-in-github",
        "colab_type": "text"
      },
      "source": [
        "<a href=\"https://colab.research.google.com/github/ThousandAI/pycs4001/blob/main/class01/class01.ipynb\" target=\"_parent\"><img src=\"https://colab.research.google.com/assets/colab-badge.svg\" alt=\"Open In Colab\"/></a>"
      ]
    },
    {
      "cell_type": "markdown",
      "source": [
        "# 變數 Variable"
      ],
      "metadata": {
        "id": "OazwBwMT5f0B"
      }
    },
    {
      "cell_type": "code",
      "source": [
        "x = 3 # assign 賦值\n",
        "y = 2.5\n",
        "z = \"Hello Python\"\n",
        "a = True\n",
        "b = False\n",
        "# 原生型態 Primitive type\n",
        "print(type(x))\n",
        "print(type(y))\n",
        "print(type(z))\n",
        "print(type(a))\n",
        "print(type(b))"
      ],
      "metadata": {
        "colab": {
          "base_uri": "https://localhost:8080/"
        },
        "id": "-W5-n7lx5eeY",
        "outputId": "5e79f3ff-377f-4d88-c5d9-4aaf534c780c"
      },
      "execution_count": 1,
      "outputs": [
        {
          "output_type": "stream",
          "name": "stdout",
          "text": [
            "<class 'int'>\n",
            "<class 'float'>\n",
            "<class 'str'>\n",
            "<class 'bool'>\n",
            "<class 'bool'>\n"
          ]
        }
      ]
    },
    {
      "cell_type": "markdown",
      "source": [
        "# Pass by Reference"
      ],
      "metadata": {
        "id": "dDcIRKDc5oNR"
      }
    },
    {
      "cell_type": "code",
      "source": [
        "x = 3\n",
        "y = x\n",
        "print(id(x), id(y))\n",
        "x = x + 1\n",
        "print(id(x), id(y))\n",
        "z = 4\n",
        "print(id(z))"
      ],
      "metadata": {
        "colab": {
          "base_uri": "https://localhost:8080/"
        },
        "id": "-J4pINDC5j5g",
        "outputId": "284b07dd-9578-4dbe-9dd3-53f0040cc2c8"
      },
      "execution_count": 2,
      "outputs": [
        {
          "output_type": "stream",
          "name": "stdout",
          "text": [
            "11256128 11256128\n",
            "11256160 11256128\n",
            "11256160\n"
          ]
        }
      ]
    },
    {
      "cell_type": "markdown",
      "source": [
        "# print"
      ],
      "metadata": {
        "id": "dJVbasVi5tj-"
      }
    },
    {
      "cell_type": "code",
      "source": [
        "print(\"Hello\") # 自動換行\n",
        "print(\"Python\")\n",
        "print(\"Hello\", end=\" \")\n",
        "print(\"Python\")\n",
        "print(\"Hello\", end=\",\")\n",
        "print(\"Python\")\n",
        "print(\"Hello, Python.\\nI'm Thousand.\")"
      ],
      "metadata": {
        "colab": {
          "base_uri": "https://localhost:8080/"
        },
        "id": "3Od9ResK5u-H",
        "outputId": "ddb82297-fec9-43ec-f999-95f32f64bdd3"
      },
      "execution_count": 3,
      "outputs": [
        {
          "output_type": "stream",
          "name": "stdout",
          "text": [
            "Hello\n",
            "Python\n",
            "Hello Python\n",
            "Hello,Python\n",
            "Hello, Python.\n",
            "I'm Thousand.\n"
          ]
        }
      ]
    },
    {
      "cell_type": "code",
      "source": [
        "# 輸出格式 (format)\n",
        "guest = \"Allie\"\n",
        "host = \"Thousand\"\n",
        "print(\"Hello, \" + guest + \". My name is \" + host + \".\")\n",
        "print(f\"Hello, {guest}. My name is {host}.\")\n",
        "print(\"Hello, {}. My name is {}.\".format(guest, host))\n",
        "pi = 3.14159265\n",
        "print(f\"Pi is {pi:.3f}\")\n",
        "print(\"Pi is {:.3f}\".format(pi))"
      ],
      "metadata": {
        "colab": {
          "base_uri": "https://localhost:8080/"
        },
        "id": "us-uQvVh5vdh",
        "outputId": "302d52f1-8a81-4042-d905-f8756be6d7dd"
      },
      "execution_count": 4,
      "outputs": [
        {
          "output_type": "stream",
          "name": "stdout",
          "text": [
            "Hello, Allie. My name is Thousand.\n",
            "Hello, Allie. My name is Thousand.\n",
            "Hello, Allie. My name is Thousand.\n",
            "Pi is 3.142\n",
            "Pi is 3.142\n"
          ]
        }
      ]
    },
    {
      "cell_type": "code",
      "source": [
        "# 資料型態不同導致運算結果不同\n",
        "a = \"123\"\n",
        "b = \"456\"\n",
        "c = 123\n",
        "d = 456\n",
        "print(a+b)\n",
        "print(c+d)"
      ],
      "metadata": {
        "colab": {
          "base_uri": "https://localhost:8080/"
        },
        "id": "DLUZotED5zCq",
        "outputId": "2492206c-94fd-4d7c-f8cc-4faaab84168a"
      },
      "execution_count": 5,
      "outputs": [
        {
          "output_type": "stream",
          "name": "stdout",
          "text": [
            "123456\n",
            "579\n"
          ]
        }
      ]
    },
    {
      "cell_type": "markdown",
      "source": [
        "# 輸入"
      ],
      "metadata": {
        "id": "BajwTWVX56-l"
      }
    },
    {
      "cell_type": "code",
      "source": [
        "number = input(\"\")\n",
        "print(f\"Your number is {number}\")\n",
        "print(type(number)) # string\n",
        "number = int(number)\n",
        "print(type(number))"
      ],
      "metadata": {
        "colab": {
          "base_uri": "https://localhost:8080/"
        },
        "id": "zTXSU8rx588v",
        "outputId": "b59ba9d8-6bfb-4175-ae22-b941af3f21d0"
      },
      "execution_count": 6,
      "outputs": [
        {
          "output_type": "stream",
          "name": "stdout",
          "text": [
            "327\n",
            "Your number is 327\n",
            "<class 'str'>\n",
            "<class 'int'>\n"
          ]
        }
      ]
    },
    {
      "cell_type": "code",
      "source": [
        "number = int(input(\"Enter a number: \"))\n",
        "print(f\"Your number is {number}\")\n",
        "print(type(number))"
      ],
      "metadata": {
        "colab": {
          "base_uri": "https://localhost:8080/"
        },
        "id": "hwg_-uCJ59U7",
        "outputId": "3fac467b-b282-4c70-9262-a7e3d8336360"
      },
      "execution_count": 7,
      "outputs": [
        {
          "output_type": "stream",
          "name": "stdout",
          "text": [
            "Enter a number: 268\n",
            "Your number is 268\n",
            "<class 'int'>\n"
          ]
        }
      ]
    },
    {
      "cell_type": "markdown",
      "source": [
        "# try except"
      ],
      "metadata": {
        "id": "pTBguSkA6Gd-"
      }
    },
    {
      "cell_type": "code",
      "source": [
        "try:\n",
        "    number = int(input(\"Enter a number: \"))\n",
        "    print(f\"Your number is: {number}\")\n",
        "except ValueError:\n",
        "    print(\"輸入格式錯誤，請輸入數字\")"
      ],
      "metadata": {
        "colab": {
          "base_uri": "https://localhost:8080/"
        },
        "id": "WCMrNUYa6B93",
        "outputId": "7bf8f541-dfc1-4210-bc55-6c37d50d86ab"
      },
      "execution_count": 8,
      "outputs": [
        {
          "output_type": "stream",
          "name": "stdout",
          "text": [
            "Enter a number: qfjis112\n",
            "輸入格式錯誤，請輸入數字\n"
          ]
        }
      ]
    },
    {
      "cell_type": "markdown",
      "source": [
        "# operator"
      ],
      "metadata": {
        "id": "JcJT7nMB6sN1"
      }
    },
    {
      "cell_type": "code",
      "source": [
        "x = 5\n",
        "y = 3\n",
        "print(f\"x+y={x+y}\")\n",
        "print(f\"x-y={x-y}\")\n",
        "print(f\"x*y={x*y}\")\n",
        "print(f\"x/y={x/y}\") # 小數點除法\n",
        "print(f\"x/y={x//y}\") # 整數除法\n",
        "print(f\"x*x*x={x**3}\")\n",
        "print(f\"x%y={x%y}\")"
      ],
      "metadata": {
        "colab": {
          "base_uri": "https://localhost:8080/"
        },
        "id": "c2dQaDIU6tcL",
        "outputId": "27fd651c-f90a-482c-b498-aaf169450a17"
      },
      "execution_count": 9,
      "outputs": [
        {
          "output_type": "stream",
          "name": "stdout",
          "text": [
            "x+y=8\n",
            "x-y=2\n",
            "x*y=15\n",
            "x/y=1.6666666666666667\n",
            "x/y=1\n",
            "x*x*x=125\n",
            "x%y=2\n"
          ]
        }
      ]
    },
    {
      "cell_type": "code",
      "source": [
        "# 餘數應用\n",
        "num = int(input(\"Enter a number: \"))\n",
        "print(f\"百位數字: {num//100}\")\n",
        "print(f\"十位數字: {(num//10)%10}\")\n",
        "print(f\"個位數字: {num%10}\")"
      ],
      "metadata": {
        "colab": {
          "base_uri": "https://localhost:8080/"
        },
        "id": "qiij61m96uWk",
        "outputId": "867c9a4f-0dc8-45bb-f4cf-3954adf1de7f"
      },
      "execution_count": 11,
      "outputs": [
        {
          "output_type": "stream",
          "name": "stdout",
          "text": [
            "Enter a number: 368\n",
            "百位數字: 3\n",
            "十位數字: 6\n",
            "個位數字: 8\n"
          ]
        }
      ]
    },
    {
      "cell_type": "code",
      "source": [
        "# 交換數值\n",
        "x = int(input(\"x: \"))\n",
        "y = int(input(\"y: \"))\n",
        "#tem = x\n",
        "# x = y\n",
        "# y = tem\n",
        "x,y = y,x\n",
        "print(f\"x: {x}, y:{y}\")"
      ],
      "metadata": {
        "colab": {
          "base_uri": "https://localhost:8080/"
        },
        "id": "qxfJAsL06xQF",
        "outputId": "f668e44c-4b65-491a-92f8-bd6ff304ae98"
      },
      "execution_count": 12,
      "outputs": [
        {
          "output_type": "stream",
          "name": "stdout",
          "text": [
            "x: 3\n",
            "y: 5\n",
            "x: 5, y:3\n"
          ]
        }
      ]
    },
    {
      "cell_type": "markdown",
      "source": [
        "# 控制流程"
      ],
      "metadata": {
        "id": "dGyHYkLD6-zs"
      }
    },
    {
      "cell_type": "code",
      "source": [
        "num = int(input())\n",
        "if num > 200:\n",
        "    print(f\"{num} > 200\")\n",
        "else:\n",
        "    print(f\"{num} <= 200\")"
      ],
      "metadata": {
        "colab": {
          "base_uri": "https://localhost:8080/"
        },
        "id": "Hcp3xHwf6_qg",
        "outputId": "89240aeb-2662-4ede-d643-1d860e2f7779"
      },
      "execution_count": 13,
      "outputs": [
        {
          "output_type": "stream",
          "name": "stdout",
          "text": [
            "170\n",
            "170 <= 200\n"
          ]
        }
      ]
    },
    {
      "cell_type": "code",
      "source": [
        "# 非 0 是 True，0 是 False\n",
        "if 0:\n",
        "    print(\"This is Ture\")\n",
        "else:\n",
        "    print(\"This is False\")"
      ],
      "metadata": {
        "colab": {
          "base_uri": "https://localhost:8080/"
        },
        "id": "KhtkpVrY7Brp",
        "outputId": "d6b2e7cd-2afd-4619-e95a-1b4661e79e3f"
      },
      "execution_count": 14,
      "outputs": [
        {
          "output_type": "stream",
          "name": "stdout",
          "text": [
            "This is False\n"
          ]
        }
      ]
    },
    {
      "cell_type": "code",
      "source": [
        "# if/elif/else\n",
        "num = int(input())\n",
        "if num > 200:\n",
        "    print(f\"{num} > 200\")\n",
        "elif 100 <= num <= 200:\n",
        "    print(f\"100 <= {num} <= 200\")\n",
        "else:\n",
        "    print(f\"{num} < 100\")"
      ],
      "metadata": {
        "colab": {
          "base_uri": "https://localhost:8080/"
        },
        "id": "cNJinCpr7FPR",
        "outputId": "b407d3f4-ae6c-4214-a6e1-1235ce35f12c"
      },
      "execution_count": 15,
      "outputs": [
        {
          "output_type": "stream",
          "name": "stdout",
          "text": [
            "170\n",
            "100 <= 170 <= 200\n"
          ]
        }
      ]
    },
    {
      "cell_type": "code",
      "source": [
        "# if/elif/else vs. 多個 if\n",
        "num = 3\n",
        "if num >= 2:\n",
        "    print(f\"{num} >= 2\")\n",
        "elif num >= 1:\n",
        "    print(f\"{num} >= 1\")\n",
        "else:\n",
        "    print(f\"{num} >= 0\")\n",
        "\n",
        "  \n",
        "if num >= 2:\n",
        "    print(f\"{num} >= 2\")\n",
        "if num >= 1:\n",
        "    print(f\"{num} >= 1\")\n",
        "if num >= 0:\n",
        "    print(f\"{num} >= 2\")"
      ],
      "metadata": {
        "colab": {
          "base_uri": "https://localhost:8080/"
        },
        "id": "ZzG_HKUl7Haw",
        "outputId": "12dcd828-9d0b-441b-be4b-f840bbaa09fa"
      },
      "execution_count": 16,
      "outputs": [
        {
          "output_type": "stream",
          "name": "stdout",
          "text": [
            "3 >= 2\n",
            "3 >= 2\n",
            "3 >= 1\n",
            "3 >= 2\n"
          ]
        }
      ]
    },
    {
      "cell_type": "code",
      "source": [
        "# if/else 解答\n",
        "x = int(input())\n",
        "y = int(input())\n",
        "z = int(input())\n",
        "if x > y:\n",
        "    ans = x\n",
        "else:\n",
        "    ans = y\n",
        "if z > ans:\n",
        "    ans = z\n",
        "print(f\"最大值: {ans}\")"
      ],
      "metadata": {
        "colab": {
          "base_uri": "https://localhost:8080/"
        },
        "id": "3dlihjph7NHF",
        "outputId": "e2128c94-679b-40ce-b2f1-4df8f75a6a34"
      },
      "execution_count": 17,
      "outputs": [
        {
          "output_type": "stream",
          "name": "stdout",
          "text": [
            "3\n",
            "5\n",
            "2\n",
            "最大值: 5\n"
          ]
        }
      ]
    },
    {
      "cell_type": "code",
      "source": [
        "# Nested if\n",
        "n = int(input(\"Enter a number: \"))\n",
        "if n % 2 == 1:\n",
        "    print(\"Weird\")\n",
        "elif n % 2 == 0:\n",
        "    if 2 <= n <= 5:\n",
        "        print(\"Not Weird\")\n",
        "    elif 6 <= n <= 20:\n",
        "        print(\"Weird\")\n",
        "    elif n > 20:\n",
        "        print(\"Not Weird\")"
      ],
      "metadata": {
        "colab": {
          "base_uri": "https://localhost:8080/"
        },
        "id": "Z6GcwuLZ7P6Z",
        "outputId": "8d4028c7-c9f0-464f-c770-74c874696ba6"
      },
      "execution_count": 19,
      "outputs": [
        {
          "output_type": "stream",
          "name": "stdout",
          "text": [
            "Enter a number: 6\n",
            "Weird\n"
          ]
        }
      ]
    },
    {
      "cell_type": "code",
      "source": [
        "# while 迴圈\n",
        "i = 0\n",
        "while i < 10:\n",
        "    print(i)\n",
        "    i += 1"
      ],
      "metadata": {
        "colab": {
          "base_uri": "https://localhost:8080/"
        },
        "id": "E0u1ncjj7UCc",
        "outputId": "08bf7f55-2403-4153-99f0-94008fa7fb90"
      },
      "execution_count": 20,
      "outputs": [
        {
          "output_type": "stream",
          "name": "stdout",
          "text": [
            "0\n",
            "1\n",
            "2\n",
            "3\n",
            "4\n",
            "5\n",
            "6\n",
            "7\n",
            "8\n",
            "9\n"
          ]
        }
      ]
    }
  ]
}