{
  "nbformat": 4,
  "nbformat_minor": 0,
  "metadata": {
    "colab": {
      "name": "hw4.ipynb",
      "provenance": [],
      "authorship_tag": "ABX9TyOp2jckWPD46ouveoLBxgE8",
      "include_colab_link": true
    },
    "kernelspec": {
      "name": "python3",
      "display_name": "Python 3"
    },
    "language_info": {
      "name": "python"
    }
  },
  "cells": [
    {
      "cell_type": "markdown",
      "metadata": {
        "id": "view-in-github",
        "colab_type": "text"
      },
      "source": [
        "<a href=\"https://colab.research.google.com/github/ThousandAI/pycs4001/blob/main/class10/hw4.ipynb\" target=\"_parent\"><img src=\"https://colab.research.google.com/assets/colab-badge.svg\" alt=\"Open In Colab\"/></a>"
      ]
    },
    {
      "cell_type": "code",
      "execution_count": 1,
      "metadata": {
        "id": "wcKs8YcGNKCx"
      },
      "outputs": [],
      "source": [
        "import numpy as np\n",
        "A = np.zeros((2,3))\n",
        "B = np.zeros((3,2))"
      ]
    },
    {
      "cell_type": "code",
      "source": [
        "print(\"A:\")\n",
        "for i in range(2):\n",
        "  A[i,:] = np.array(list(map(lambda x: int(x), input().split())))\n",
        "print(\"B:\")\n",
        "for i in range(3):\n",
        "  B[i,:] = np.array(list(map(lambda x: int(x), input().split())))"
      ],
      "metadata": {
        "colab": {
          "base_uri": "https://localhost:8080/"
        },
        "id": "Usk4LqW5NwlJ",
        "outputId": "6dd5e72c-81d1-4855-83f3-add506597ab6"
      },
      "execution_count": 4,
      "outputs": [
        {
          "name": "stdout",
          "output_type": "stream",
          "text": [
            "A:\n",
            "2 3 5\n",
            "5 7 8\n",
            "B:\n",
            "1 2\n",
            "3 10\n",
            "2 6\n"
          ]
        }
      ]
    },
    {
      "cell_type": "code",
      "source": [
        "print(A)"
      ],
      "metadata": {
        "colab": {
          "base_uri": "https://localhost:8080/"
        },
        "id": "JonRFZncOPyx",
        "outputId": "42f4fcbb-fda5-43eb-81cc-7d00082dcd0c"
      },
      "execution_count": 5,
      "outputs": [
        {
          "output_type": "stream",
          "name": "stdout",
          "text": [
            "[[2. 3. 5.]\n",
            " [5. 7. 8.]]\n"
          ]
        }
      ]
    },
    {
      "cell_type": "code",
      "source": [
        "print(B)"
      ],
      "metadata": {
        "colab": {
          "base_uri": "https://localhost:8080/"
        },
        "id": "KsvGEI-SOlKv",
        "outputId": "a58cc5be-dcdf-40b3-a15e-0b2ace14db7d"
      },
      "execution_count": 6,
      "outputs": [
        {
          "output_type": "stream",
          "name": "stdout",
          "text": [
            "[[ 1.  2.]\n",
            " [ 3. 10.]\n",
            " [ 2.  6.]]\n"
          ]
        }
      ]
    },
    {
      "cell_type": "code",
      "source": [
        "ans = np.matmul(A,B)\n",
        "print(ans)"
      ],
      "metadata": {
        "colab": {
          "base_uri": "https://localhost:8080/"
        },
        "id": "TPBQd0JVOqVu",
        "outputId": "8c761e14-9d4b-4cc2-8efb-30a14168ebe1"
      },
      "execution_count": 7,
      "outputs": [
        {
          "output_type": "stream",
          "name": "stdout",
          "text": [
            "[[ 21.  64.]\n",
            " [ 42. 128.]]\n"
          ]
        }
      ]
    }
  ]
}