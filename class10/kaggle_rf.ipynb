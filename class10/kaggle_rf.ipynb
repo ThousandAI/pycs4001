{
  "nbformat": 4,
  "nbformat_minor": 0,
  "metadata": {
    "colab": {
      "name": "kaggle_rf.ipynb",
      "provenance": [],
      "authorship_tag": "ABX9TyMDuRKSGeGhiM0ykFBSRzV1",
      "include_colab_link": true
    },
    "kernelspec": {
      "name": "python3",
      "display_name": "Python 3"
    },
    "language_info": {
      "name": "python"
    }
  },
  "cells": [
    {
      "cell_type": "markdown",
      "metadata": {
        "id": "view-in-github",
        "colab_type": "text"
      },
      "source": [
        "<a href=\"https://colab.research.google.com/github/ThousandAI/pycs4001/blob/main/class10/kaggle_rf.ipynb\" target=\"_parent\"><img src=\"https://colab.research.google.com/assets/colab-badge.svg\" alt=\"Open In Colab\"/></a>"
      ]
    },
    {
      "cell_type": "code",
      "execution_count": 1,
      "metadata": {
        "id": "KK8dGElkkdqG"
      },
      "outputs": [],
      "source": [
        "import numpy as np\n",
        "import pandas as pd\n",
        "import matplotlib.pyplot as plt\n",
        "from tqdm import tqdm\n",
        "train_data = pd.read_csv(\"https://raw.githubusercontent.com/ThousandAI/pycs4001/main/class09/train.csv\")\n",
        "test_data = pd.read_csv(\"https://raw.githubusercontent.com/ThousandAI/pycs4001/main/class09/test.csv\")\n",
        "test_ids = test_data[\"PassengerId\"]"
      ]
    },
    {
      "cell_type": "code",
      "source": [
        "def clean(data):\n",
        "    data = data.drop([\"PassengerId\", \"Name\", \"Ticket\"], axis=1)\n",
        "\n",
        "    cols = [\"SibSp\", \"Parch\", \"Fare\", \"Age\"]\n",
        "    for col in cols:\n",
        "        data[col].fillna(data[col].mean(), inplace=True)\n",
        "\n",
        "    data.Embarked.fillna(\"U\", inplace=True)\n",
        "\n",
        "    return data"
      ],
      "metadata": {
        "id": "BIc6clq2km5h"
      },
      "execution_count": 2,
      "outputs": []
    },
    {
      "cell_type": "code",
      "source": [
        "train_data = clean(train_data)\n",
        "test_data = clean(test_data)\n",
        "X = train_data.iloc[:, 1:]\n",
        "Y = train_data.iloc[:, 0]"
      ],
      "metadata": {
        "id": "xzttM8GAknSX"
      },
      "execution_count": 3,
      "outputs": []
    },
    {
      "cell_type": "code",
      "source": [
        "concat_data = pd.concat([X, test_data], axis=0)\n",
        "dummy_data = pd.get_dummies(concat_data)\n",
        "\n",
        "dummy_train_data = dummy_data.iloc[:891, :]\n",
        "dummy_test_data = dummy_data.iloc[891:, :]"
      ],
      "metadata": {
        "id": "KwVmyz9skq0h"
      },
      "execution_count": 4,
      "outputs": []
    },
    {
      "cell_type": "code",
      "source": [
        "from sklearn.preprocessing import StandardScaler\n",
        "scaler = StandardScaler()\n",
        "sc_x = scaler.fit_transform(dummy_train_data)"
      ],
      "metadata": {
        "id": "UxmV0nRBks1V"
      },
      "execution_count": 5,
      "outputs": []
    },
    {
      "cell_type": "code",
      "source": [
        "from sklearn.ensemble import RandomForestClassifier\n",
        "from sklearn.model_selection import cross_val_score"
      ],
      "metadata": {
        "id": "BT5b2J6PktI0"
      },
      "execution_count": 7,
      "outputs": []
    },
    {
      "cell_type": "code",
      "source": [
        "depth = []\n",
        "for i in tqdm(range(2,50,1)):\n",
        "  rf = RandomForestClassifier(max_depth=i)\n",
        "  scores = cross_val_score(rf, sc_x, Y, cv=5)\n",
        "  depth.append(scores.mean())"
      ],
      "metadata": {
        "colab": {
          "base_uri": "https://localhost:8080/"
        },
        "id": "5Z_8eNK_mbnH",
        "outputId": "bf01cce7-c9a7-494d-85c7-bf6fee99b812"
      },
      "execution_count": 9,
      "outputs": [
        {
          "output_type": "stream",
          "name": "stderr",
          "text": [
            "100%|██████████| 48/48 [00:57<00:00,  1.20s/it]\n"
          ]
        }
      ]
    },
    {
      "cell_type": "code",
      "source": [
        "final_depth = np.argmax(np.array(depth)) + 2\n",
        "print(final_depth)"
      ],
      "metadata": {
        "colab": {
          "base_uri": "https://localhost:8080/"
        },
        "id": "87g0rknigsCh",
        "outputId": "4ddab512-eaca-440f-ad9a-966843480c7d"
      },
      "execution_count": 10,
      "outputs": [
        {
          "output_type": "stream",
          "name": "stdout",
          "text": [
            "15\n"
          ]
        }
      ]
    },
    {
      "cell_type": "code",
      "source": [
        "estimators = []\n",
        "for i in tqdm(range(50,200,1)):\n",
        "  rf = RandomForestClassifier(n_estimators=i, max_depth=22)\n",
        "  scores = cross_val_score(rf, sc_x, Y, cv=5)\n",
        "  estimators.append(scores.mean())"
      ],
      "metadata": {
        "colab": {
          "base_uri": "https://localhost:8080/"
        },
        "id": "FjLTadvCnmcu",
        "outputId": "df53e957-d774-4c96-8784-fbbb54d0c9da"
      },
      "execution_count": 11,
      "outputs": [
        {
          "output_type": "stream",
          "name": "stderr",
          "text": [
            "100%|██████████| 150/150 [03:49<00:00,  1.53s/it]\n"
          ]
        }
      ]
    },
    {
      "cell_type": "code",
      "source": [
        "final_estimators = np.argmax(np.array(estimators)) + 50\n",
        "print(final_estimators)"
      ],
      "metadata": {
        "colab": {
          "base_uri": "https://localhost:8080/"
        },
        "id": "OHIvsXe4mnmC",
        "outputId": "65d45240-6ec6-4a3d-fc92-b64e64189e8d"
      },
      "execution_count": 12,
      "outputs": [
        {
          "output_type": "stream",
          "name": "stdout",
          "text": [
            "107\n"
          ]
        }
      ]
    },
    {
      "cell_type": "code",
      "source": [
        "final_rf = RandomForestClassifier(n_estimators=92, max_depth=22)"
      ],
      "metadata": {
        "id": "IUXxHGQanEVY"
      },
      "execution_count": 13,
      "outputs": []
    },
    {
      "cell_type": "code",
      "source": [
        "final_rf.fit(sc_x, Y)"
      ],
      "metadata": {
        "colab": {
          "base_uri": "https://localhost:8080/"
        },
        "id": "GRsc7meHnJub",
        "outputId": "95845b68-2066-46bd-88a3-6e71718f99e0"
      },
      "execution_count": 14,
      "outputs": [
        {
          "output_type": "execute_result",
          "data": {
            "text/plain": [
              "RandomForestClassifier(max_depth=22, n_estimators=92)"
            ]
          },
          "metadata": {},
          "execution_count": 14
        }
      ]
    },
    {
      "cell_type": "code",
      "source": [
        "sc_test_data_x = scaler.transform(dummy_test_data)"
      ],
      "metadata": {
        "id": "6sWH9p-FlL9l"
      },
      "execution_count": 15,
      "outputs": []
    },
    {
      "cell_type": "code",
      "source": [
        "submission = final_rf.predict(sc_test_data_x)"
      ],
      "metadata": {
        "id": "cpMRyvJxlNyE"
      },
      "execution_count": 16,
      "outputs": []
    },
    {
      "cell_type": "code",
      "source": [
        "print(submission)"
      ],
      "metadata": {
        "colab": {
          "base_uri": "https://localhost:8080/"
        },
        "id": "v9uOxyrelPXr",
        "outputId": "b22968bc-3a69-40f8-f22b-059a2b98d02b"
      },
      "execution_count": 17,
      "outputs": [
        {
          "output_type": "stream",
          "name": "stdout",
          "text": [
            "[0 0 0 0 1 0 0 0 1 0 0 0 1 0 1 1 0 1 0 1 0 0 1 0 1 0 1 1 0 0 0 0 0 0 0 1 0\n",
            " 0 0 1 0 0 0 1 1 0 0 0 1 1 0 0 1 1 0 0 0 0 0 1 0 0 0 1 1 1 1 0 0 1 1 0 0 0\n",
            " 1 0 0 1 0 1 1 0 0 0 0 0 1 0 0 1 0 0 1 0 0 0 1 0 0 0 1 0 0 0 1 0 0 0 0 0 0\n",
            " 0 1 0 1 0 0 1 0 1 1 0 1 0 0 1 0 1 0 0 0 0 0 0 0 0 0 0 0 0 0 1 0 0 0 0 0 0\n",
            " 0 0 1 0 0 1 0 0 1 0 0 1 0 1 1 0 0 0 0 0 1 0 0 0 0 0 0 1 1 0 1 1 0 0 1 0 1\n",
            " 0 1 0 0 0 0 0 0 0 1 0 1 0 0 0 0 1 0 1 0 0 0 0 1 0 0 0 0 1 0 0 0 0 1 0 1 0\n",
            " 1 0 1 0 0 0 0 0 0 1 0 0 0 0 0 1 1 1 1 1 0 0 0 0 1 0 1 0 1 0 0 0 0 0 0 0 1\n",
            " 0 0 0 1 1 0 0 0 0 0 0 0 0 1 1 0 1 0 0 0 0 0 1 0 0 1 0 0 0 0 0 0 0 0 0 0 0\n",
            " 1 0 0 0 0 0 0 0 0 1 0 1 0 0 0 1 0 0 1 1 0 0 0 0 0 0 0 0 1 0 1 0 0 0 1 0 0\n",
            " 0 0 0 0 0 0 0 0 0 0 1 0 1 0 1 0 1 1 0 0 0 1 0 1 0 0 1 0 1 1 0 1 0 0 0 1 1\n",
            " 0 1 0 0 1 1 0 0 0 0 0 0 1 0 0 1 0 0 0 0 0 1 0 0 0 1 0 1 0 0 1 0 1 0 0 0 0\n",
            " 0 0 1 0 1 0 0 1 0 0 1]\n"
          ]
        }
      ]
    },
    {
      "cell_type": "code",
      "source": [
        "submission_data = pd.DataFrame({\"PassengerId\": test_ids.values, \"Survived\": submission })\n",
        "submission_data.to_csv(\"submission.csv\", index=False)"
      ],
      "metadata": {
        "id": "qrjN-3RllQ5y"
      },
      "execution_count": 18,
      "outputs": []
    },
    {
      "cell_type": "code",
      "source": [
        ""
      ],
      "metadata": {
        "id": "GJ4BdjpklUso"
      },
      "execution_count": null,
      "outputs": []
    }
  ]
}