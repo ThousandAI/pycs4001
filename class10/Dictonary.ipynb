{
  "nbformat": 4,
  "nbformat_minor": 0,
  "metadata": {
    "colab": {
      "name": "Dictonary.ipynb",
      "provenance": [],
      "authorship_tag": "ABX9TyMHTG6lpLXP14BWd2qnLh1A",
      "include_colab_link": true
    },
    "kernelspec": {
      "name": "python3",
      "display_name": "Python 3"
    },
    "language_info": {
      "name": "python"
    }
  },
  "cells": [
    {
      "cell_type": "markdown",
      "metadata": {
        "id": "view-in-github",
        "colab_type": "text"
      },
      "source": [
        "<a href=\"https://colab.research.google.com/github/ThousandAI/pycs4001/blob/main/class10/Dictonary.ipynb\" target=\"_parent\"><img src=\"https://colab.research.google.com/assets/colab-badge.svg\" alt=\"Open In Colab\"/></a>"
      ]
    },
    {
      "cell_type": "code",
      "execution_count": 1,
      "metadata": {
        "id": "feg2ihYiAOQ_"
      },
      "outputs": [],
      "source": [
        "dic = {\"Harry\":32, \"Berry\": 31, \"Thousand\":21, \"Becky\": 50, \"Allie\":37}"
      ]
    },
    {
      "cell_type": "code",
      "source": [
        "for x in dic.items():\n",
        "  print(x)"
      ],
      "metadata": {
        "colab": {
          "base_uri": "https://localhost:8080/"
        },
        "id": "K3WumleEAbT0",
        "outputId": "3612bc17-0606-4e7b-945f-230599240c5d"
      },
      "execution_count": 2,
      "outputs": [
        {
          "output_type": "stream",
          "name": "stdout",
          "text": [
            "('Harry', 32)\n",
            "('Berry', 31)\n",
            "('Thousand', 21)\n",
            "('Becky', 50)\n",
            "('Allie', 37)\n"
          ]
        }
      ]
    },
    {
      "cell_type": "code",
      "source": [
        "sorted_tuple = sorted(dic.items(), key=lambda x: x[1])\n",
        "print(sorted_tuple)"
      ],
      "metadata": {
        "colab": {
          "base_uri": "https://localhost:8080/"
        },
        "id": "bfY9lducAYwR",
        "outputId": "cb93a01f-b237-445b-c1ac-960d446f6004"
      },
      "execution_count": 3,
      "outputs": [
        {
          "output_type": "stream",
          "name": "stdout",
          "text": [
            "[('Thousand', 21), ('Berry', 31), ('Harry', 32), ('Allie', 37), ('Becky', 50)]\n"
          ]
        }
      ]
    },
    {
      "cell_type": "code",
      "source": [
        "dic = {key:value for key, value in sorted_tuple}\n",
        "print(dic)"
      ],
      "metadata": {
        "colab": {
          "base_uri": "https://localhost:8080/"
        },
        "id": "LZC7H8cDArbt",
        "outputId": "743ab586-2c24-46d8-d873-c640fb0b6579"
      },
      "execution_count": 4,
      "outputs": [
        {
          "output_type": "stream",
          "name": "stdout",
          "text": [
            "{'Thousand': 21, 'Berry': 31, 'Harry': 32, 'Allie': 37, 'Becky': 50}\n"
          ]
        }
      ]
    },
    {
      "cell_type": "code",
      "source": [
        "ans = {}\n",
        "for key, value in sorted_tuple:\n",
        "  ans[key] = value\n",
        "print(ans)"
      ],
      "metadata": {
        "colab": {
          "base_uri": "https://localhost:8080/"
        },
        "id": "Nk-IO33DBBSU",
        "outputId": "8183a9af-d23a-4928-945b-f3544634aff9"
      },
      "execution_count": 5,
      "outputs": [
        {
          "output_type": "stream",
          "name": "stdout",
          "text": [
            "{'Thousand': 21, 'Berry': 31, 'Harry': 32, 'Allie': 37, 'Becky': 50}\n"
          ]
        }
      ]
    }
  ]
}