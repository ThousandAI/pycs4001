{
  "nbformat": 4,
  "nbformat_minor": 0,
  "metadata": {
    "colab": {
      "name": "top_youtuber.ipynb",
      "provenance": [],
      "include_colab_link": true
    },
    "kernelspec": {
      "name": "python3",
      "display_name": "Python 3"
    },
    "language_info": {
      "name": "python"
    }
  },
  "cells": [
    {
      "cell_type": "markdown",
      "metadata": {
        "id": "view-in-github",
        "colab_type": "text"
      },
      "source": [
        "<a href=\"https://colab.research.google.com/github/ThousandAI/pycs4001/blob/main/top_youtuber(%E5%AD%B8%E7%94%9F%E4%BD%9C%E5%93%81).ipynb\" target=\"_parent\"><img src=\"https://colab.research.google.com/assets/colab-badge.svg\" alt=\"Open In Colab\"/></a>"
      ]
    },
    {
      "cell_type": "code",
      "execution_count": null,
      "metadata": {
        "colab": {
          "base_uri": "https://localhost:8080/"
        },
        "id": "sQ2k11PAMB1F",
        "outputId": "c877012c-066d-4711-def6-463da06b2bfd"
      },
      "outputs": [
        {
          "output_type": "stream",
          "name": "stdout",
          "text": [
            "Drive already mounted at /content/drive/; to attempt to forcibly remount, call drive.mount(\"/content/drive/\", force_remount=True).\n"
          ]
        }
      ],
      "source": [
        "from google.colab import drive\n",
        "drive.mount(\"/content/drive/\")"
      ]
    },
    {
      "cell_type": "code",
      "source": [
        "import pandas as pd\n",
        "import matplotlib.pyplot as plt\n",
        "\n",
        "# data source: https://www.kaggle.com/datasets/surajjha101/top-youtube-channels-data\n",
        "# loading data\n",
        "df = pd.read_csv('/content/drive/MyDrive/pycs4001_project1/Top YouTube Channels Data.csv')\n",
        "# we want to see all 7 columns\n",
        "pd.set_option('display.max_columns', 7)\n",
        "# print out first 5 samples from the data\n",
        "df.head(5)"
      ],
      "metadata": {
        "colab": {
          "base_uri": "https://localhost:8080/",
          "height": 206
        },
        "id": "oeeyEi-tlmoO",
        "outputId": "155e1548-0abb-4660-ef96-73732b35cb03"
      },
      "execution_count": null,
      "outputs": [
        {
          "output_type": "execute_result",
          "data": {
            "text/plain": [
              "   rank                     youtuber  subscribers      video views  \\\n",
              "0     1                    T-Series     213000000  188,073,919,029   \n",
              "1     2              YouTube Movies     150000000  167,122,746,349   \n",
              "2     3  Cocomelon - Nursery Rhymes     133000000  126,822,520,940   \n",
              "3     4                   SET India     131000000  101,541,977,714   \n",
              "4     5                       Music     116000000   78,437,871,689   \n",
              "\n",
              "   video count           category  started  \n",
              "0      16708.0             Music      2006  \n",
              "1          NaN  Film & Animation      2015  \n",
              "2        751.0         Education      2006  \n",
              "3      78334.0             Shows      2006  \n",
              "4          NaN             Music      2013  "
            ],
            "text/html": [
              "\n",
              "  <div id=\"df-d7500752-ff27-4da3-ab8a-012180178183\">\n",
              "    <div class=\"colab-df-container\">\n",
              "      <div>\n",
              "<style scoped>\n",
              "    .dataframe tbody tr th:only-of-type {\n",
              "        vertical-align: middle;\n",
              "    }\n",
              "\n",
              "    .dataframe tbody tr th {\n",
              "        vertical-align: top;\n",
              "    }\n",
              "\n",
              "    .dataframe thead th {\n",
              "        text-align: right;\n",
              "    }\n",
              "</style>\n",
              "<table border=\"1\" class=\"dataframe\">\n",
              "  <thead>\n",
              "    <tr style=\"text-align: right;\">\n",
              "      <th></th>\n",
              "      <th>rank</th>\n",
              "      <th>youtuber</th>\n",
              "      <th>subscribers</th>\n",
              "      <th>video views</th>\n",
              "      <th>video count</th>\n",
              "      <th>category</th>\n",
              "      <th>started</th>\n",
              "    </tr>\n",
              "  </thead>\n",
              "  <tbody>\n",
              "    <tr>\n",
              "      <th>0</th>\n",
              "      <td>1</td>\n",
              "      <td>T-Series</td>\n",
              "      <td>213000000</td>\n",
              "      <td>188,073,919,029</td>\n",
              "      <td>16708.0</td>\n",
              "      <td>Music</td>\n",
              "      <td>2006</td>\n",
              "    </tr>\n",
              "    <tr>\n",
              "      <th>1</th>\n",
              "      <td>2</td>\n",
              "      <td>YouTube Movies</td>\n",
              "      <td>150000000</td>\n",
              "      <td>167,122,746,349</td>\n",
              "      <td>NaN</td>\n",
              "      <td>Film &amp; Animation</td>\n",
              "      <td>2015</td>\n",
              "    </tr>\n",
              "    <tr>\n",
              "      <th>2</th>\n",
              "      <td>3</td>\n",
              "      <td>Cocomelon - Nursery Rhymes</td>\n",
              "      <td>133000000</td>\n",
              "      <td>126,822,520,940</td>\n",
              "      <td>751.0</td>\n",
              "      <td>Education</td>\n",
              "      <td>2006</td>\n",
              "    </tr>\n",
              "    <tr>\n",
              "      <th>3</th>\n",
              "      <td>4</td>\n",
              "      <td>SET India</td>\n",
              "      <td>131000000</td>\n",
              "      <td>101,541,977,714</td>\n",
              "      <td>78334.0</td>\n",
              "      <td>Shows</td>\n",
              "      <td>2006</td>\n",
              "    </tr>\n",
              "    <tr>\n",
              "      <th>4</th>\n",
              "      <td>5</td>\n",
              "      <td>Music</td>\n",
              "      <td>116000000</td>\n",
              "      <td>78,437,871,689</td>\n",
              "      <td>NaN</td>\n",
              "      <td>Music</td>\n",
              "      <td>2013</td>\n",
              "    </tr>\n",
              "  </tbody>\n",
              "</table>\n",
              "</div>\n",
              "      <button class=\"colab-df-convert\" onclick=\"convertToInteractive('df-d7500752-ff27-4da3-ab8a-012180178183')\"\n",
              "              title=\"Convert this dataframe to an interactive table.\"\n",
              "              style=\"display:none;\">\n",
              "        \n",
              "  <svg xmlns=\"http://www.w3.org/2000/svg\" height=\"24px\"viewBox=\"0 0 24 24\"\n",
              "       width=\"24px\">\n",
              "    <path d=\"M0 0h24v24H0V0z\" fill=\"none\"/>\n",
              "    <path d=\"M18.56 5.44l.94 2.06.94-2.06 2.06-.94-2.06-.94-.94-2.06-.94 2.06-2.06.94zm-11 1L8.5 8.5l.94-2.06 2.06-.94-2.06-.94L8.5 2.5l-.94 2.06-2.06.94zm10 10l.94 2.06.94-2.06 2.06-.94-2.06-.94-.94-2.06-.94 2.06-2.06.94z\"/><path d=\"M17.41 7.96l-1.37-1.37c-.4-.4-.92-.59-1.43-.59-.52 0-1.04.2-1.43.59L10.3 9.45l-7.72 7.72c-.78.78-.78 2.05 0 2.83L4 21.41c.39.39.9.59 1.41.59.51 0 1.02-.2 1.41-.59l7.78-7.78 2.81-2.81c.8-.78.8-2.07 0-2.86zM5.41 20L4 18.59l7.72-7.72 1.47 1.35L5.41 20z\"/>\n",
              "  </svg>\n",
              "      </button>\n",
              "      \n",
              "  <style>\n",
              "    .colab-df-container {\n",
              "      display:flex;\n",
              "      flex-wrap:wrap;\n",
              "      gap: 12px;\n",
              "    }\n",
              "\n",
              "    .colab-df-convert {\n",
              "      background-color: #E8F0FE;\n",
              "      border: none;\n",
              "      border-radius: 50%;\n",
              "      cursor: pointer;\n",
              "      display: none;\n",
              "      fill: #1967D2;\n",
              "      height: 32px;\n",
              "      padding: 0 0 0 0;\n",
              "      width: 32px;\n",
              "    }\n",
              "\n",
              "    .colab-df-convert:hover {\n",
              "      background-color: #E2EBFA;\n",
              "      box-shadow: 0px 1px 2px rgba(60, 64, 67, 0.3), 0px 1px 3px 1px rgba(60, 64, 67, 0.15);\n",
              "      fill: #174EA6;\n",
              "    }\n",
              "\n",
              "    [theme=dark] .colab-df-convert {\n",
              "      background-color: #3B4455;\n",
              "      fill: #D2E3FC;\n",
              "    }\n",
              "\n",
              "    [theme=dark] .colab-df-convert:hover {\n",
              "      background-color: #434B5C;\n",
              "      box-shadow: 0px 1px 3px 1px rgba(0, 0, 0, 0.15);\n",
              "      filter: drop-shadow(0px 1px 2px rgba(0, 0, 0, 0.3));\n",
              "      fill: #FFFFFF;\n",
              "    }\n",
              "  </style>\n",
              "\n",
              "      <script>\n",
              "        const buttonEl =\n",
              "          document.querySelector('#df-d7500752-ff27-4da3-ab8a-012180178183 button.colab-df-convert');\n",
              "        buttonEl.style.display =\n",
              "          google.colab.kernel.accessAllowed ? 'block' : 'none';\n",
              "\n",
              "        async function convertToInteractive(key) {\n",
              "          const element = document.querySelector('#df-d7500752-ff27-4da3-ab8a-012180178183');\n",
              "          const dataTable =\n",
              "            await google.colab.kernel.invokeFunction('convertToInteractive',\n",
              "                                                     [key], {});\n",
              "          if (!dataTable) return;\n",
              "\n",
              "          const docLinkHtml = 'Like what you see? Visit the ' +\n",
              "            '<a target=\"_blank\" href=https://colab.research.google.com/notebooks/data_table.ipynb>data table notebook</a>'\n",
              "            + ' to learn more about interactive tables.';\n",
              "          element.innerHTML = '';\n",
              "          dataTable['output_type'] = 'display_data';\n",
              "          await google.colab.output.renderOutput(dataTable, element);\n",
              "          const docLink = document.createElement('div');\n",
              "          docLink.innerHTML = docLinkHtml;\n",
              "          element.appendChild(docLink);\n",
              "        }\n",
              "      </script>\n",
              "    </div>\n",
              "  </div>\n",
              "  "
            ]
          },
          "metadata": {},
          "execution_count": 2
        }
      ]
    },
    {
      "cell_type": "code",
      "source": [
        "# we don't need rank\n",
        "df = df.drop(columns=['rank'])\n",
        "# we want to know views per subscriber\n",
        "df['video views'] = df['video views'].str.replace(',','').astype(int)\n",
        "df['views per subscriber'] = df['video views'] / df['subscribers']\n",
        "df.head(5)"
      ],
      "metadata": {
        "colab": {
          "base_uri": "https://localhost:8080/",
          "height": 206
        },
        "id": "F38LOGF8mGur",
        "outputId": "e1f557d9-7dc9-4810-c66c-7294a59111c0"
      },
      "execution_count": null,
      "outputs": [
        {
          "output_type": "execute_result",
          "data": {
            "text/plain": [
              "                      youtuber  subscribers   video views  video count  \\\n",
              "0                    T-Series     213000000  188073919029      16708.0   \n",
              "1              YouTube Movies     150000000  167122746349          NaN   \n",
              "2  Cocomelon - Nursery Rhymes     133000000  126822520940        751.0   \n",
              "3                   SET India     131000000  101541977714      78334.0   \n",
              "4                       Music     116000000   78437871689          NaN   \n",
              "\n",
              "            category  started  views per subscriber  \n",
              "0             Music      2006            882.976146  \n",
              "1  Film & Animation      2015           1114.151642  \n",
              "2         Education      2006            953.552789  \n",
              "3             Shows      2006            775.129601  \n",
              "4             Music      2013            676.188549  "
            ],
            "text/html": [
              "\n",
              "  <div id=\"df-f9e69772-ee5b-4cac-933b-75de128f3458\">\n",
              "    <div class=\"colab-df-container\">\n",
              "      <div>\n",
              "<style scoped>\n",
              "    .dataframe tbody tr th:only-of-type {\n",
              "        vertical-align: middle;\n",
              "    }\n",
              "\n",
              "    .dataframe tbody tr th {\n",
              "        vertical-align: top;\n",
              "    }\n",
              "\n",
              "    .dataframe thead th {\n",
              "        text-align: right;\n",
              "    }\n",
              "</style>\n",
              "<table border=\"1\" class=\"dataframe\">\n",
              "  <thead>\n",
              "    <tr style=\"text-align: right;\">\n",
              "      <th></th>\n",
              "      <th>youtuber</th>\n",
              "      <th>subscribers</th>\n",
              "      <th>video views</th>\n",
              "      <th>video count</th>\n",
              "      <th>category</th>\n",
              "      <th>started</th>\n",
              "      <th>views per subscriber</th>\n",
              "    </tr>\n",
              "  </thead>\n",
              "  <tbody>\n",
              "    <tr>\n",
              "      <th>0</th>\n",
              "      <td>T-Series</td>\n",
              "      <td>213000000</td>\n",
              "      <td>188073919029</td>\n",
              "      <td>16708.0</td>\n",
              "      <td>Music</td>\n",
              "      <td>2006</td>\n",
              "      <td>882.976146</td>\n",
              "    </tr>\n",
              "    <tr>\n",
              "      <th>1</th>\n",
              "      <td>YouTube Movies</td>\n",
              "      <td>150000000</td>\n",
              "      <td>167122746349</td>\n",
              "      <td>NaN</td>\n",
              "      <td>Film &amp; Animation</td>\n",
              "      <td>2015</td>\n",
              "      <td>1114.151642</td>\n",
              "    </tr>\n",
              "    <tr>\n",
              "      <th>2</th>\n",
              "      <td>Cocomelon - Nursery Rhymes</td>\n",
              "      <td>133000000</td>\n",
              "      <td>126822520940</td>\n",
              "      <td>751.0</td>\n",
              "      <td>Education</td>\n",
              "      <td>2006</td>\n",
              "      <td>953.552789</td>\n",
              "    </tr>\n",
              "    <tr>\n",
              "      <th>3</th>\n",
              "      <td>SET India</td>\n",
              "      <td>131000000</td>\n",
              "      <td>101541977714</td>\n",
              "      <td>78334.0</td>\n",
              "      <td>Shows</td>\n",
              "      <td>2006</td>\n",
              "      <td>775.129601</td>\n",
              "    </tr>\n",
              "    <tr>\n",
              "      <th>4</th>\n",
              "      <td>Music</td>\n",
              "      <td>116000000</td>\n",
              "      <td>78437871689</td>\n",
              "      <td>NaN</td>\n",
              "      <td>Music</td>\n",
              "      <td>2013</td>\n",
              "      <td>676.188549</td>\n",
              "    </tr>\n",
              "  </tbody>\n",
              "</table>\n",
              "</div>\n",
              "      <button class=\"colab-df-convert\" onclick=\"convertToInteractive('df-f9e69772-ee5b-4cac-933b-75de128f3458')\"\n",
              "              title=\"Convert this dataframe to an interactive table.\"\n",
              "              style=\"display:none;\">\n",
              "        \n",
              "  <svg xmlns=\"http://www.w3.org/2000/svg\" height=\"24px\"viewBox=\"0 0 24 24\"\n",
              "       width=\"24px\">\n",
              "    <path d=\"M0 0h24v24H0V0z\" fill=\"none\"/>\n",
              "    <path d=\"M18.56 5.44l.94 2.06.94-2.06 2.06-.94-2.06-.94-.94-2.06-.94 2.06-2.06.94zm-11 1L8.5 8.5l.94-2.06 2.06-.94-2.06-.94L8.5 2.5l-.94 2.06-2.06.94zm10 10l.94 2.06.94-2.06 2.06-.94-2.06-.94-.94-2.06-.94 2.06-2.06.94z\"/><path d=\"M17.41 7.96l-1.37-1.37c-.4-.4-.92-.59-1.43-.59-.52 0-1.04.2-1.43.59L10.3 9.45l-7.72 7.72c-.78.78-.78 2.05 0 2.83L4 21.41c.39.39.9.59 1.41.59.51 0 1.02-.2 1.41-.59l7.78-7.78 2.81-2.81c.8-.78.8-2.07 0-2.86zM5.41 20L4 18.59l7.72-7.72 1.47 1.35L5.41 20z\"/>\n",
              "  </svg>\n",
              "      </button>\n",
              "      \n",
              "  <style>\n",
              "    .colab-df-container {\n",
              "      display:flex;\n",
              "      flex-wrap:wrap;\n",
              "      gap: 12px;\n",
              "    }\n",
              "\n",
              "    .colab-df-convert {\n",
              "      background-color: #E8F0FE;\n",
              "      border: none;\n",
              "      border-radius: 50%;\n",
              "      cursor: pointer;\n",
              "      display: none;\n",
              "      fill: #1967D2;\n",
              "      height: 32px;\n",
              "      padding: 0 0 0 0;\n",
              "      width: 32px;\n",
              "    }\n",
              "\n",
              "    .colab-df-convert:hover {\n",
              "      background-color: #E2EBFA;\n",
              "      box-shadow: 0px 1px 2px rgba(60, 64, 67, 0.3), 0px 1px 3px 1px rgba(60, 64, 67, 0.15);\n",
              "      fill: #174EA6;\n",
              "    }\n",
              "\n",
              "    [theme=dark] .colab-df-convert {\n",
              "      background-color: #3B4455;\n",
              "      fill: #D2E3FC;\n",
              "    }\n",
              "\n",
              "    [theme=dark] .colab-df-convert:hover {\n",
              "      background-color: #434B5C;\n",
              "      box-shadow: 0px 1px 3px 1px rgba(0, 0, 0, 0.15);\n",
              "      filter: drop-shadow(0px 1px 2px rgba(0, 0, 0, 0.3));\n",
              "      fill: #FFFFFF;\n",
              "    }\n",
              "  </style>\n",
              "\n",
              "      <script>\n",
              "        const buttonEl =\n",
              "          document.querySelector('#df-f9e69772-ee5b-4cac-933b-75de128f3458 button.colab-df-convert');\n",
              "        buttonEl.style.display =\n",
              "          google.colab.kernel.accessAllowed ? 'block' : 'none';\n",
              "\n",
              "        async function convertToInteractive(key) {\n",
              "          const element = document.querySelector('#df-f9e69772-ee5b-4cac-933b-75de128f3458');\n",
              "          const dataTable =\n",
              "            await google.colab.kernel.invokeFunction('convertToInteractive',\n",
              "                                                     [key], {});\n",
              "          if (!dataTable) return;\n",
              "\n",
              "          const docLinkHtml = 'Like what you see? Visit the ' +\n",
              "            '<a target=\"_blank\" href=https://colab.research.google.com/notebooks/data_table.ipynb>data table notebook</a>'\n",
              "            + ' to learn more about interactive tables.';\n",
              "          element.innerHTML = '';\n",
              "          dataTable['output_type'] = 'display_data';\n",
              "          await google.colab.output.renderOutput(dataTable, element);\n",
              "          const docLink = document.createElement('div');\n",
              "          docLink.innerHTML = docLinkHtml;\n",
              "          element.appendChild(docLink);\n",
              "        }\n",
              "      </script>\n",
              "    </div>\n",
              "  </div>\n",
              "  "
            ]
          },
          "metadata": {},
          "execution_count": 3
        }
      ]
    },
    {
      "cell_type": "code",
      "source": [
        "# some statistical properties\n",
        "df.describe()"
      ],
      "metadata": {
        "colab": {
          "base_uri": "https://localhost:8080/",
          "height": 300
        },
        "id": "UDEWRnkglrpl",
        "outputId": "86f4a302-c27a-43f6-9785-2f8cea9ff256"
      },
      "execution_count": null,
      "outputs": [
        {
          "output_type": "execute_result",
          "data": {
            "text/plain": [
              "        subscribers   video views    video count      started  \\\n",
              "count  1.000000e+02  1.000000e+02      95.000000   100.000000   \n",
              "mean   5.336300e+07  2.993079e+10   15847.221053  2010.800000   \n",
              "std    2.869713e+07  2.988971e+10   40955.200388     5.504819   \n",
              "min    3.220000e+07  2.647950e+09      45.000000  1970.000000   \n",
              "25%    3.620000e+07  1.485854e+10     393.500000  2007.750000   \n",
              "50%    4.320000e+07  2.209857e+10    1139.000000  2012.000000   \n",
              "75%    5.710000e+07  3.053425e+10    4986.000000  2014.000000   \n",
              "max    2.130000e+08  1.880739e+11  209351.000000  2018.000000   \n",
              "\n",
              "       views per subscriber  \n",
              "count            100.000000  \n",
              "mean             527.200322  \n",
              "std              281.578274  \n",
              "min               80.484806  \n",
              "25%              304.664997  \n",
              "50%              517.645931  \n",
              "75%              674.551864  \n",
              "max             1583.722337  "
            ],
            "text/html": [
              "\n",
              "  <div id=\"df-2e713db9-26fe-4610-a3d4-a9c1c6bd3f08\">\n",
              "    <div class=\"colab-df-container\">\n",
              "      <div>\n",
              "<style scoped>\n",
              "    .dataframe tbody tr th:only-of-type {\n",
              "        vertical-align: middle;\n",
              "    }\n",
              "\n",
              "    .dataframe tbody tr th {\n",
              "        vertical-align: top;\n",
              "    }\n",
              "\n",
              "    .dataframe thead th {\n",
              "        text-align: right;\n",
              "    }\n",
              "</style>\n",
              "<table border=\"1\" class=\"dataframe\">\n",
              "  <thead>\n",
              "    <tr style=\"text-align: right;\">\n",
              "      <th></th>\n",
              "      <th>subscribers</th>\n",
              "      <th>video views</th>\n",
              "      <th>video count</th>\n",
              "      <th>started</th>\n",
              "      <th>views per subscriber</th>\n",
              "    </tr>\n",
              "  </thead>\n",
              "  <tbody>\n",
              "    <tr>\n",
              "      <th>count</th>\n",
              "      <td>1.000000e+02</td>\n",
              "      <td>1.000000e+02</td>\n",
              "      <td>95.000000</td>\n",
              "      <td>100.000000</td>\n",
              "      <td>100.000000</td>\n",
              "    </tr>\n",
              "    <tr>\n",
              "      <th>mean</th>\n",
              "      <td>5.336300e+07</td>\n",
              "      <td>2.993079e+10</td>\n",
              "      <td>15847.221053</td>\n",
              "      <td>2010.800000</td>\n",
              "      <td>527.200322</td>\n",
              "    </tr>\n",
              "    <tr>\n",
              "      <th>std</th>\n",
              "      <td>2.869713e+07</td>\n",
              "      <td>2.988971e+10</td>\n",
              "      <td>40955.200388</td>\n",
              "      <td>5.504819</td>\n",
              "      <td>281.578274</td>\n",
              "    </tr>\n",
              "    <tr>\n",
              "      <th>min</th>\n",
              "      <td>3.220000e+07</td>\n",
              "      <td>2.647950e+09</td>\n",
              "      <td>45.000000</td>\n",
              "      <td>1970.000000</td>\n",
              "      <td>80.484806</td>\n",
              "    </tr>\n",
              "    <tr>\n",
              "      <th>25%</th>\n",
              "      <td>3.620000e+07</td>\n",
              "      <td>1.485854e+10</td>\n",
              "      <td>393.500000</td>\n",
              "      <td>2007.750000</td>\n",
              "      <td>304.664997</td>\n",
              "    </tr>\n",
              "    <tr>\n",
              "      <th>50%</th>\n",
              "      <td>4.320000e+07</td>\n",
              "      <td>2.209857e+10</td>\n",
              "      <td>1139.000000</td>\n",
              "      <td>2012.000000</td>\n",
              "      <td>517.645931</td>\n",
              "    </tr>\n",
              "    <tr>\n",
              "      <th>75%</th>\n",
              "      <td>5.710000e+07</td>\n",
              "      <td>3.053425e+10</td>\n",
              "      <td>4986.000000</td>\n",
              "      <td>2014.000000</td>\n",
              "      <td>674.551864</td>\n",
              "    </tr>\n",
              "    <tr>\n",
              "      <th>max</th>\n",
              "      <td>2.130000e+08</td>\n",
              "      <td>1.880739e+11</td>\n",
              "      <td>209351.000000</td>\n",
              "      <td>2018.000000</td>\n",
              "      <td>1583.722337</td>\n",
              "    </tr>\n",
              "  </tbody>\n",
              "</table>\n",
              "</div>\n",
              "      <button class=\"colab-df-convert\" onclick=\"convertToInteractive('df-2e713db9-26fe-4610-a3d4-a9c1c6bd3f08')\"\n",
              "              title=\"Convert this dataframe to an interactive table.\"\n",
              "              style=\"display:none;\">\n",
              "        \n",
              "  <svg xmlns=\"http://www.w3.org/2000/svg\" height=\"24px\"viewBox=\"0 0 24 24\"\n",
              "       width=\"24px\">\n",
              "    <path d=\"M0 0h24v24H0V0z\" fill=\"none\"/>\n",
              "    <path d=\"M18.56 5.44l.94 2.06.94-2.06 2.06-.94-2.06-.94-.94-2.06-.94 2.06-2.06.94zm-11 1L8.5 8.5l.94-2.06 2.06-.94-2.06-.94L8.5 2.5l-.94 2.06-2.06.94zm10 10l.94 2.06.94-2.06 2.06-.94-2.06-.94-.94-2.06-.94 2.06-2.06.94z\"/><path d=\"M17.41 7.96l-1.37-1.37c-.4-.4-.92-.59-1.43-.59-.52 0-1.04.2-1.43.59L10.3 9.45l-7.72 7.72c-.78.78-.78 2.05 0 2.83L4 21.41c.39.39.9.59 1.41.59.51 0 1.02-.2 1.41-.59l7.78-7.78 2.81-2.81c.8-.78.8-2.07 0-2.86zM5.41 20L4 18.59l7.72-7.72 1.47 1.35L5.41 20z\"/>\n",
              "  </svg>\n",
              "      </button>\n",
              "      \n",
              "  <style>\n",
              "    .colab-df-container {\n",
              "      display:flex;\n",
              "      flex-wrap:wrap;\n",
              "      gap: 12px;\n",
              "    }\n",
              "\n",
              "    .colab-df-convert {\n",
              "      background-color: #E8F0FE;\n",
              "      border: none;\n",
              "      border-radius: 50%;\n",
              "      cursor: pointer;\n",
              "      display: none;\n",
              "      fill: #1967D2;\n",
              "      height: 32px;\n",
              "      padding: 0 0 0 0;\n",
              "      width: 32px;\n",
              "    }\n",
              "\n",
              "    .colab-df-convert:hover {\n",
              "      background-color: #E2EBFA;\n",
              "      box-shadow: 0px 1px 2px rgba(60, 64, 67, 0.3), 0px 1px 3px 1px rgba(60, 64, 67, 0.15);\n",
              "      fill: #174EA6;\n",
              "    }\n",
              "\n",
              "    [theme=dark] .colab-df-convert {\n",
              "      background-color: #3B4455;\n",
              "      fill: #D2E3FC;\n",
              "    }\n",
              "\n",
              "    [theme=dark] .colab-df-convert:hover {\n",
              "      background-color: #434B5C;\n",
              "      box-shadow: 0px 1px 3px 1px rgba(0, 0, 0, 0.15);\n",
              "      filter: drop-shadow(0px 1px 2px rgba(0, 0, 0, 0.3));\n",
              "      fill: #FFFFFF;\n",
              "    }\n",
              "  </style>\n",
              "\n",
              "      <script>\n",
              "        const buttonEl =\n",
              "          document.querySelector('#df-2e713db9-26fe-4610-a3d4-a9c1c6bd3f08 button.colab-df-convert');\n",
              "        buttonEl.style.display =\n",
              "          google.colab.kernel.accessAllowed ? 'block' : 'none';\n",
              "\n",
              "        async function convertToInteractive(key) {\n",
              "          const element = document.querySelector('#df-2e713db9-26fe-4610-a3d4-a9c1c6bd3f08');\n",
              "          const dataTable =\n",
              "            await google.colab.kernel.invokeFunction('convertToInteractive',\n",
              "                                                     [key], {});\n",
              "          if (!dataTable) return;\n",
              "\n",
              "          const docLinkHtml = 'Like what you see? Visit the ' +\n",
              "            '<a target=\"_blank\" href=https://colab.research.google.com/notebooks/data_table.ipynb>data table notebook</a>'\n",
              "            + ' to learn more about interactive tables.';\n",
              "          element.innerHTML = '';\n",
              "          dataTable['output_type'] = 'display_data';\n",
              "          await google.colab.output.renderOutput(dataTable, element);\n",
              "          const docLink = document.createElement('div');\n",
              "          docLink.innerHTML = docLinkHtml;\n",
              "          element.appendChild(docLink);\n",
              "        }\n",
              "      </script>\n",
              "    </div>\n",
              "  </div>\n",
              "  "
            ]
          },
          "metadata": {},
          "execution_count": 4
        }
      ]
    },
    {
      "cell_type": "code",
      "source": [
        "# some more information e.g. data type\n",
        "df.info()"
      ],
      "metadata": {
        "colab": {
          "base_uri": "https://localhost:8080/"
        },
        "id": "qUobS2Ivlvuh",
        "outputId": "4705ec00-2ade-4cec-d87b-ef643649f085"
      },
      "execution_count": null,
      "outputs": [
        {
          "output_type": "stream",
          "name": "stdout",
          "text": [
            "<class 'pandas.core.frame.DataFrame'>\n",
            "RangeIndex: 100 entries, 0 to 99\n",
            "Data columns (total 7 columns):\n",
            " #   Column                Non-Null Count  Dtype  \n",
            "---  ------                --------------  -----  \n",
            " 0   youtuber              100 non-null    object \n",
            " 1   subscribers           100 non-null    int64  \n",
            " 2   video views           100 non-null    int64  \n",
            " 3   video count           95 non-null     float64\n",
            " 4   category              100 non-null    object \n",
            " 5   started               100 non-null    int64  \n",
            " 6   views per subscriber  100 non-null    float64\n",
            "dtypes: float64(2), int64(3), object(2)\n",
            "memory usage: 5.6+ KB\n"
          ]
        }
      ]
    },
    {
      "cell_type": "markdown",
      "source": [
        "**Show the distribution of channel subscriber**"
      ],
      "metadata": {
        "id": "GD3A1eewu9Zc"
      }
    },
    {
      "cell_type": "code",
      "source": [
        "plt.hist(df['subscribers'], bins=10)\n",
        "plt.title('Subscribers')\n",
        "plt.xlabel(\"number of subscribers\")\n",
        "plt.ylabel(\"number of channels\")\n",
        "plt.show()"
      ],
      "metadata": {
        "colab": {
          "base_uri": "https://localhost:8080/",
          "height": 295
        },
        "id": "HsI-8zenqe-a",
        "outputId": "d0a83c55-0a4b-4409-8384-36d1aa982d95"
      },
      "execution_count": null,
      "outputs": [
        {
          "output_type": "display_data",
          "data": {
            "text/plain": [
              "<Figure size 432x288 with 1 Axes>"
            ],
            "image/png": "[encoded data removed]"
          },
          "metadata": {
            "needs_background": "light"
          }
        }
      ]
    },
    {
      "cell_type": "markdown",
      "source": [
        "**Show the number of subscribers to channels in each category**"
      ],
      "metadata": {
        "id": "ZLlUCYOlwbmW"
      }
    },
    {
      "cell_type": "code",
      "source": [
        "category_count = df['category'].value_counts()\n",
        "category_count"
      ],
      "metadata": {
        "colab": {
          "base_uri": "https://localhost:8080/"
        },
        "id": "xW7UUOuhlxE-",
        "outputId": "9eb37699-e609-4b83-bc13-0c2cf170df9e"
      },
      "execution_count": null,
      "outputs": [
        {
          "output_type": "execute_result",
          "data": {
            "text/plain": [
              "Music                     34\n",
              "Entertainment             19\n",
              "People & Blogs            10\n",
              "Gaming                     8\n",
              "Education                  6\n",
              "Film & Animation           5\n",
              "Shows                      4\n",
              "Comedy                     4\n",
              "Sports                     3\n",
              "News & Politics            3\n",
              "How to & Style             2\n",
              "Trailers                   1\n",
              "Nonprofits & Activism      1\n",
              "Name: category, dtype: int64"
            ]
          },
          "metadata": {},
          "execution_count": 7
        }
      ]
    },
    {
      "cell_type": "code",
      "source": [
        "pie_chart = df['category'].value_counts().plot.pie(autopct = '%1.1f%%', fontsize = 8, radius = 1.2)\n",
        "plt.show()"
      ],
      "metadata": {
        "colab": {
          "base_uri": "https://localhost:8080/",
          "height": 259
        },
        "id": "0PqSaUVInHfw",
        "outputId": "2862f5f4-6451-49a7-d757-19d00c094ed3"
      },
      "execution_count": null,
      "outputs": [
        {
          "output_type": "display_data",
          "data": {
            "text/plain": [
              "<Figure size 432x288 with 1 Axes>"
            ],
            "image/png": "[encoded data removed]"
          },
          "metadata": {}
        }
      ]
    },
    {
      "cell_type": "markdown",
      "source": [
        "**Show the correlation matrix**"
      ],
      "metadata": {
        "id": "xiNmjTnexHKY"
      }
    },
    {
      "cell_type": "code",
      "source": [
        "corr = df.corr()\n",
        "corr"
      ],
      "metadata": {
        "colab": {
          "base_uri": "https://localhost:8080/",
          "height": 206
        },
        "id": "gg0B1lNVl2EP",
        "outputId": "8fd0ca55-c98b-447d-c49f-85d7e583137a"
      },
      "execution_count": null,
      "outputs": [
        {
          "output_type": "execute_result",
          "data": {
            "text/plain": [
              "                      subscribers  video views  video count   started  \\\n",
              "subscribers              1.000000     0.845155     0.001657 -0.015502   \n",
              "video views              0.845155     1.000000     0.088724 -0.018385   \n",
              "video count              0.001657     0.088724     1.000000 -0.088179   \n",
              "started                 -0.015502    -0.018385    -0.088179  1.000000   \n",
              "views per subscriber     0.224733     0.648431     0.138970  0.040206   \n",
              "\n",
              "                      views per subscriber  \n",
              "subscribers                       0.224733  \n",
              "video views                       0.648431  \n",
              "video count                       0.138970  \n",
              "started                           0.040206  \n",
              "views per subscriber              1.000000  "
            ],
            "text/html": [
              "\n",
              "  <div id=\"df-71247441-b15f-455b-aaeb-8e3e57ebeb31\">\n",
              "    <div class=\"colab-df-container\">\n",
              "      <div>\n",
              "<style scoped>\n",
              "    .dataframe tbody tr th:only-of-type {\n",
              "        vertical-align: middle;\n",
              "    }\n",
              "\n",
              "    .dataframe tbody tr th {\n",
              "        vertical-align: top;\n",
              "    }\n",
              "\n",
              "    .dataframe thead th {\n",
              "        text-align: right;\n",
              "    }\n",
              "</style>\n",
              "<table border=\"1\" class=\"dataframe\">\n",
              "  <thead>\n",
              "    <tr style=\"text-align: right;\">\n",
              "      <th></th>\n",
              "      <th>subscribers</th>\n",
              "      <th>video views</th>\n",
              "      <th>video count</th>\n",
              "      <th>started</th>\n",
              "      <th>views per subscriber</th>\n",
              "    </tr>\n",
              "  </thead>\n",
              "  <tbody>\n",
              "    <tr>\n",
              "      <th>subscribers</th>\n",
              "      <td>1.000000</td>\n",
              "      <td>0.845155</td>\n",
              "      <td>0.001657</td>\n",
              "      <td>-0.015502</td>\n",
              "      <td>0.224733</td>\n",
              "    </tr>\n",
              "    <tr>\n",
              "      <th>video views</th>\n",
              "      <td>0.845155</td>\n",
              "      <td>1.000000</td>\n",
              "      <td>0.088724</td>\n",
              "      <td>-0.018385</td>\n",
              "      <td>0.648431</td>\n",
              "    </tr>\n",
              "    <tr>\n",
              "      <th>video count</th>\n",
              "      <td>0.001657</td>\n",
              "      <td>0.088724</td>\n",
              "      <td>1.000000</td>\n",
              "      <td>-0.088179</td>\n",
              "      <td>0.138970</td>\n",
              "    </tr>\n",
              "    <tr>\n",
              "      <th>started</th>\n",
              "      <td>-0.015502</td>\n",
              "      <td>-0.018385</td>\n",
              "      <td>-0.088179</td>\n",
              "      <td>1.000000</td>\n",
              "      <td>0.040206</td>\n",
              "    </tr>\n",
              "    <tr>\n",
              "      <th>views per subscriber</th>\n",
              "      <td>0.224733</td>\n",
              "      <td>0.648431</td>\n",
              "      <td>0.138970</td>\n",
              "      <td>0.040206</td>\n",
              "      <td>1.000000</td>\n",
              "    </tr>\n",
              "  </tbody>\n",
              "</table>\n",
              "</div>\n",
              "      <button class=\"colab-df-convert\" onclick=\"convertToInteractive('df-71247441-b15f-455b-aaeb-8e3e57ebeb31')\"\n",
              "              title=\"Convert this dataframe to an interactive table.\"\n",
              "              style=\"display:none;\">\n",
              "        \n",
              "  <svg xmlns=\"http://www.w3.org/2000/svg\" height=\"24px\"viewBox=\"0 0 24 24\"\n",
              "       width=\"24px\">\n",
              "    <path d=\"M0 0h24v24H0V0z\" fill=\"none\"/>\n",
              "    <path d=\"M18.56 5.44l.94 2.06.94-2.06 2.06-.94-2.06-.94-.94-2.06-.94 2.06-2.06.94zm-11 1L8.5 8.5l.94-2.06 2.06-.94-2.06-.94L8.5 2.5l-.94 2.06-2.06.94zm10 10l.94 2.06.94-2.06 2.06-.94-2.06-.94-.94-2.06-.94 2.06-2.06.94z\"/><path d=\"M17.41 7.96l-1.37-1.37c-.4-.4-.92-.59-1.43-.59-.52 0-1.04.2-1.43.59L10.3 9.45l-7.72 7.72c-.78.78-.78 2.05 0 2.83L4 21.41c.39.39.9.59 1.41.59.51 0 1.02-.2 1.41-.59l7.78-7.78 2.81-2.81c.8-.78.8-2.07 0-2.86zM5.41 20L4 18.59l7.72-7.72 1.47 1.35L5.41 20z\"/>\n",
              "  </svg>\n",
              "      </button>\n",
              "      \n",
              "  <style>\n",
              "    .colab-df-container {\n",
              "      display:flex;\n",
              "      flex-wrap:wrap;\n",
              "      gap: 12px;\n",
              "    }\n",
              "\n",
              "    .colab-df-convert {\n",
              "      background-color: #E8F0FE;\n",
              "      border: none;\n",
              "      border-radius: 50%;\n",
              "      cursor: pointer;\n",
              "      display: none;\n",
              "      fill: #1967D2;\n",
              "      height: 32px;\n",
              "      padding: 0 0 0 0;\n",
              "      width: 32px;\n",
              "    }\n",
              "\n",
              "    .colab-df-convert:hover {\n",
              "      background-color: #E2EBFA;\n",
              "      box-shadow: 0px 1px 2px rgba(60, 64, 67, 0.3), 0px 1px 3px 1px rgba(60, 64, 67, 0.15);\n",
              "      fill: #174EA6;\n",
              "    }\n",
              "\n",
              "    [theme=dark] .colab-df-convert {\n",
              "      background-color: #3B4455;\n",
              "      fill: #D2E3FC;\n",
              "    }\n",
              "\n",
              "    [theme=dark] .colab-df-convert:hover {\n",
              "      background-color: #434B5C;\n",
              "      box-shadow: 0px 1px 3px 1px rgba(0, 0, 0, 0.15);\n",
              "      filter: drop-shadow(0px 1px 2px rgba(0, 0, 0, 0.3));\n",
              "      fill: #FFFFFF;\n",
              "    }\n",
              "  </style>\n",
              "\n",
              "      <script>\n",
              "        const buttonEl =\n",
              "          document.querySelector('#df-71247441-b15f-455b-aaeb-8e3e57ebeb31 button.colab-df-convert');\n",
              "        buttonEl.style.display =\n",
              "          google.colab.kernel.accessAllowed ? 'block' : 'none';\n",
              "\n",
              "        async function convertToInteractive(key) {\n",
              "          const element = document.querySelector('#df-71247441-b15f-455b-aaeb-8e3e57ebeb31');\n",
              "          const dataTable =\n",
              "            await google.colab.kernel.invokeFunction('convertToInteractive',\n",
              "                                                     [key], {});\n",
              "          if (!dataTable) return;\n",
              "\n",
              "          const docLinkHtml = 'Like what you see? Visit the ' +\n",
              "            '<a target=\"_blank\" href=https://colab.research.google.com/notebooks/data_table.ipynb>data table notebook</a>'\n",
              "            + ' to learn more about interactive tables.';\n",
              "          element.innerHTML = '';\n",
              "          dataTable['output_type'] = 'display_data';\n",
              "          await google.colab.output.renderOutput(dataTable, element);\n",
              "          const docLink = document.createElement('div');\n",
              "          docLink.innerHTML = docLinkHtml;\n",
              "          element.appendChild(docLink);\n",
              "        }\n",
              "      </script>\n",
              "    </div>\n",
              "  </div>\n",
              "  "
            ]
          },
          "metadata": {},
          "execution_count": 9
        }
      ]
    },
    {
      "cell_type": "code",
      "source": [
        "plt.imshow(corr,cmap='seismic')\n",
        "plt.title('Correlation Matrix')\n",
        "plt.xticks(range(len(corr.columns)), corr.columns, rotation='vertical');\n",
        "plt.yticks(range(len(corr.columns)), corr.columns);\n",
        "plt.colorbar()\n",
        "plt.show()"
      ],
      "metadata": {
        "colab": {
          "base_uri": "https://localhost:8080/",
          "height": 374
        },
        "id": "hQ0PlFVTnQ1Z",
        "outputId": "36db6294-c4c3-4193-8885-bb01bf4157ca"
      },
      "execution_count": null,
      "outputs": [
        {
          "output_type": "display_data",
          "data": {
            "text/plain": [
              "<Figure size 432x288 with 2 Axes>"
            ],
            "image/png": "[encoded data removed]"
          },
          "metadata": {
            "needs_background": "light"
          }
        }
      ]
    },
    {
      "cell_type": "markdown",
      "source": [
        "**Show the number of top Youtube channels started each year**"
      ],
      "metadata": {
        "id": "nlsyT7sbxpuM"
      }
    },
    {
      "cell_type": "code",
      "source": [
        "df['started'].value_counts().sort_index(ascending=True)"
      ],
      "metadata": {
        "colab": {
          "base_uri": "https://localhost:8080/"
        },
        "id": "g05hWmo4l4Sc",
        "outputId": "895b2518-f900-4e15-9cde-ca1dd339d578"
      },
      "execution_count": null,
      "outputs": [
        {
          "output_type": "execute_result",
          "data": {
            "text/plain": [
              "1970     1\n",
              "2005     4\n",
              "2006    13\n",
              "2007     7\n",
              "2008     5\n",
              "2009     5\n",
              "2010     3\n",
              "2011    10\n",
              "2012    10\n",
              "2013    10\n",
              "2014    12\n",
              "2015     7\n",
              "2016     7\n",
              "2017     5\n",
              "2018     1\n",
              "Name: started, dtype: int64"
            ]
          },
          "metadata": {},
          "execution_count": 11
        }
      ]
    },
    {
      "cell_type": "code",
      "source": [
        "line_plot = df['started'].value_counts().sort_index(ascending=True).plot()\n",
        "plt.title('Number of Top Youtube Channels Started Each Year')\n",
        "plt.xlabel('year')\n",
        "plt.ylabel('number of channels')\n",
        "plt.show()"
      ],
      "metadata": {
        "colab": {
          "base_uri": "https://localhost:8080/",
          "height": 295
        },
        "id": "GBdMK2qNnZ5X",
        "outputId": "fb0698d5-d3e1-4615-d2c4-124b32686780"
      },
      "execution_count": null,
      "outputs": [
        {
          "output_type": "display_data",
          "data": {
            "text/plain": [
              "<Figure size 432x288 with 1 Axes>"
            ],
            "image/png": "[encoded data removed]"
          },
          "metadata": {
            "needs_background": "light"
          }
        }
      ]
    }
  ]
}